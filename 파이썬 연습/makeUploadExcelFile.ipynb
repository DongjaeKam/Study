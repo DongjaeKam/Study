{
 "cells": [
  {
   "cell_type": "code",
   "execution_count": null,
   "id": "33710d56",
   "metadata": {},
   "outputs": [],
   "source": [
    "line_cnt = 13\n",
    "from openpyxl import load_workbook\n",
    "import urllib.request\n",
    "load_wb = load_workbook(\"D:\\DP_DATA\\data.xlsx\")\n",
    "load_ws = load_wb['_itemdownload']\n",
    "for i in range(0,10):\n",
    "    for j in range(0,line_cnt):\n",
    "        url = load_ws.cell(3+j, 24+i).value\n",
    "        print(url)\n",
    "        num = i+(j+1)*10\n",
    "        filename = f\"D:\\DP_IMAGE\\{num}.jpg\"\n",
    "        urllib.request.urlretrieve(url, filename)\n",
    "        \n",
    "load_naver = load_wb['naver']\n",
    "line_cnt = 13\n",
    "\n",
    "for i in range(0,line_cnt) :\n",
    "    load_naver.cell(5+i,8).value = str((i+1)*10)+\".jpg\"\n",
    "    tmp = str((i+1)*10+1)+\".jpg\"\n",
    "    for j in range(2,10):\n",
    "        tmp+=\",\"+str((i+1)*10+j)+\".jpg\"\n",
    "    \n",
    "    load_naver.cell(5+i,9).value=tmp\n",
    "    \n",
    "load_wb.save(\"D:\\DP_DATA\\data.xlsx\")\n"
   ]
  }
 ],
 "metadata": {
  "kernelspec": {
   "display_name": "Python 3 (ipykernel)",
   "language": "python",
   "name": "python3"
  },
  "language_info": {
   "codemirror_mode": {
    "name": "ipython",
    "version": 3
   },
   "file_extension": ".py",
   "mimetype": "text/x-python",
   "name": "python",
   "nbconvert_exporter": "python",
   "pygments_lexer": "ipython3",
   "version": "3.9.12"
  }
 },
 "nbformat": 4,
 "nbformat_minor": 5
}
