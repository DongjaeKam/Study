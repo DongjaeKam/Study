{
 "cells": [
  {
   "cell_type": "code",
   "execution_count": 2,
   "id": "206b2753",
   "metadata": {},
   "outputs": [],
   "source": [
    "from selenium import webdriver\n",
    "from selenium.webdriver.common.keys import Keys\n",
    "from selenium.common.exceptions import NoSuchElementException\n",
    "import time\n",
    "import random\n",
    "import requests\n",
    "from bs4 import BeautifulSoup\n",
    "from random import *\n",
    "driver = webdriver.Chrome('D:\\InstaBot\\chromedriver.exe')\n",
    "driver.get('https://www.naver.com')\n",
    "time.sleep(5)\n"
   ]
  },
  {
   "cell_type": "code",
   "execution_count": null,
   "id": "4ba5a964",
   "metadata": {},
   "outputs": [],
   "source": [
    "\n",
    "\n",
    "txt = \"#반반냄비 #전골냄비 #마라탕만들기 #마라샹궈 #훠궈냄비 #마라탕냄비 #샤브냄비 #스테인리스냄비 #스텐냄비 #캠핑냄비\"\n",
    "txt_split =txt.split('#')\n",
    "cnt = 1\n",
    "while cnt != len(txt_split) :\n",
    "    driver.find_elements_by_class_name('input-keyword')[0].clear()\n",
    "    driver.find_elements_by_class_name('input-keyword')[0].send_keys(txt_split[cnt])\n",
    "    time.sleep(5)\n",
    "    driver.find_elements_by_class_name('input-keyword')[0].send_keys(Keys.RETURN)\n",
    "    time.sleep(3)\n",
    "    e=driver.find_elements_by_class_name('stat-score')[0].text\n",
    "    print(txt_split[cnt])\n",
    "    print(e.split('\\n')[0])\n",
    "    cnt = cnt + 1\n",
    "    \n",
    "    \n",
    "    "
   ]
  },
  {
   "cell_type": "code",
   "execution_count": 11,
   "id": "bffc12c3",
   "metadata": {},
   "outputs": [],
   "source": [
    "item = \"속옷걸이\"\n",
    "address = \"https://search.shopping.naver.com/search/all?where=all&frm=NVSCTAB&query=\"\n",
    "driver.get(address+item)"
   ]
  },
  {
   "cell_type": "code",
   "execution_count": 30,
   "id": "6f24b208",
   "metadata": {},
   "outputs": [
    {
     "data": {
      "text/plain": [
       "<selenium.webdriver.remote.webelement.WebElement (session=\"60e7988695cf896680e58bb84bbec75a\", element=\"95a0f9de-52b1-406c-92fd-aa3d60981ad0\")>"
      ]
     },
     "execution_count": 30,
     "metadata": {},
     "output_type": "execute_result"
    }
   ],
   "source": [
    "driver.find_elements_by_class_name(\"basicList_mall__sbVax\")[0]"
   ]
  },
  {
   "cell_type": "code",
   "execution_count": null,
   "id": "f0538e55",
   "metadata": {},
   "outputs": [],
   "source": []
  },
  {
   "cell_type": "code",
   "execution_count": 39,
   "id": "1dd82c14",
   "metadata": {},
   "outputs": [
    {
     "ename": "SyntaxError",
     "evalue": "invalid non-printable character U+00A0 (4278908017.py, line 6)",
     "output_type": "error",
     "traceback": [
      "\u001b[1;36m  Input \u001b[1;32mIn [39]\u001b[1;36m\u001b[0m\n\u001b[1;33m    soup = BeautifulSoup(sourcecode, \"html.parser\")\u001b[0m\n\u001b[1;37m        ^\u001b[0m\n\u001b[1;31mSyntaxError\u001b[0m\u001b[1;31m:\u001b[0m invalid non-printable character U+00A0\n"
     ]
    }
   ],
   "source": [
    "import requests\n",
    "import BeautifulSoup\n",
    "\n",
    "url = address+item\n",
    "page = requests.get(url)\n",
    "soup = BeautifulSoup(sourcecode, \"html.parser\")\n",
    "  \n",
    "for href in soup.find(\"div\", class_=\"w_news_list\").find_all(\"li\"):\n",
    "    print(href.find(\"a\")[\"href\"])\n",
    "\n"
   ]
  }
 ],
 "metadata": {
  "kernelspec": {
   "display_name": "Python 3 (ipykernel)",
   "language": "python",
   "name": "python3"
  },
  "language_info": {
   "codemirror_mode": {
    "name": "ipython",
    "version": 3
   },
   "file_extension": ".py",
   "mimetype": "text/x-python",
   "name": "python",
   "nbconvert_exporter": "python",
   "pygments_lexer": "ipython3",
   "version": "3.9.12"
  }
 },
 "nbformat": 4,
 "nbformat_minor": 5
}
