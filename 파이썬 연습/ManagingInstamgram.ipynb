{
 "cells": [
  {
   "cell_type": "code",
   "execution_count": 9,
   "id": "2f3c23f3",
   "metadata": {},
   "outputs": [
    {
     "ename": "WebDriverException",
     "evalue": "Message: unknown error: unexpected command response\n  (Session info: chrome=103.0.5060.114)\n",
     "output_type": "error",
     "traceback": [
      "\u001b[1;31m---------------------------------------------------------------------------\u001b[0m",
      "\u001b[1;31mWebDriverException\u001b[0m                        Traceback (most recent call last)",
      "Input \u001b[1;32mIn [9]\u001b[0m, in \u001b[0;36m<cell line: 118>\u001b[1;34m()\u001b[0m\n\u001b[0;32m    116\u001b[0m cnt \u001b[38;5;241m=\u001b[39m \u001b[38;5;241m0\u001b[39m\n\u001b[0;32m    117\u001b[0m login(ID, PW)\n\u001b[1;32m--> 118\u001b[0m \u001b[43mlater\u001b[49m\u001b[43m(\u001b[49m\u001b[43m)\u001b[49m\n\u001b[0;32m    121\u001b[0m \u001b[38;5;124;03m\"\"\"\u001b[39;00m\n\u001b[0;32m    122\u001b[0m \n\u001b[0;32m    123\u001b[0m \n\u001b[1;32m   (...)\u001b[0m\n\u001b[0;32m    141\u001b[0m \u001b[38;5;124;03m        \u001b[39;00m\n\u001b[0;32m    142\u001b[0m \u001b[38;5;124;03m\"\"\"\u001b[39;00m\n",
      "Input \u001b[1;32mIn [9]\u001b[0m, in \u001b[0;36mlater\u001b[1;34m()\u001b[0m\n\u001b[0;32m     34\u001b[0m \u001b[38;5;28;01mdef\u001b[39;00m \u001b[38;5;21mlater\u001b[39m():\n\u001b[0;32m     35\u001b[0m     \u001b[38;5;66;03m# 나중에하기1\u001b[39;00m\n\u001b[1;32m---> 36\u001b[0m     e \u001b[38;5;241m=\u001b[39m \u001b[43mdriver\u001b[49m\u001b[38;5;241;43m.\u001b[39;49m\u001b[43mfind_elements_by_class_name\u001b[49m\u001b[43m(\u001b[49m\u001b[38;5;124;43m'\u001b[39;49m\u001b[38;5;124;43msqdOP\u001b[39;49m\u001b[38;5;124;43m'\u001b[39;49m\u001b[43m)\u001b[49m[\u001b[38;5;241m0\u001b[39m]\n\u001b[0;32m     37\u001b[0m     e\u001b[38;5;241m.\u001b[39mclick()\n\u001b[0;32m     38\u001b[0m     time\u001b[38;5;241m.\u001b[39msleep(\u001b[38;5;241m1\u001b[39m)\n",
      "File \u001b[1;32m~\\anaconda3\\lib\\site-packages\\selenium\\webdriver\\remote\\webdriver.py:580\u001b[0m, in \u001b[0;36mWebDriver.find_elements_by_class_name\u001b[1;34m(self, name)\u001b[0m\n\u001b[0;32m    566\u001b[0m \u001b[38;5;28;01mdef\u001b[39;00m \u001b[38;5;21mfind_elements_by_class_name\u001b[39m(\u001b[38;5;28mself\u001b[39m, name):\n\u001b[0;32m    567\u001b[0m     \u001b[38;5;124;03m\"\"\"\u001b[39;00m\n\u001b[0;32m    568\u001b[0m \u001b[38;5;124;03m    Finds elements by class name.\u001b[39;00m\n\u001b[0;32m    569\u001b[0m \n\u001b[1;32m   (...)\u001b[0m\n\u001b[0;32m    578\u001b[0m \u001b[38;5;124;03m        elements = driver.find_elements_by_class_name('foo')\u001b[39;00m\n\u001b[0;32m    579\u001b[0m \u001b[38;5;124;03m    \"\"\"\u001b[39;00m\n\u001b[1;32m--> 580\u001b[0m     \u001b[38;5;28;01mreturn\u001b[39;00m \u001b[38;5;28;43mself\u001b[39;49m\u001b[38;5;241;43m.\u001b[39;49m\u001b[43mfind_elements\u001b[49m\u001b[43m(\u001b[49m\u001b[43mby\u001b[49m\u001b[38;5;241;43m=\u001b[39;49m\u001b[43mBy\u001b[49m\u001b[38;5;241;43m.\u001b[39;49m\u001b[43mCLASS_NAME\u001b[49m\u001b[43m,\u001b[49m\u001b[43m \u001b[49m\u001b[43mvalue\u001b[49m\u001b[38;5;241;43m=\u001b[39;49m\u001b[43mname\u001b[49m\u001b[43m)\u001b[49m\n",
      "File \u001b[1;32m~\\anaconda3\\lib\\site-packages\\selenium\\webdriver\\remote\\webdriver.py:1005\u001b[0m, in \u001b[0;36mWebDriver.find_elements\u001b[1;34m(self, by, value)\u001b[0m\n\u001b[0;32m   1001\u001b[0m         value \u001b[38;5;241m=\u001b[39m \u001b[38;5;124m'\u001b[39m\u001b[38;5;124m[name=\u001b[39m\u001b[38;5;124m\"\u001b[39m\u001b[38;5;132;01m%s\u001b[39;00m\u001b[38;5;124m\"\u001b[39m\u001b[38;5;124m]\u001b[39m\u001b[38;5;124m'\u001b[39m \u001b[38;5;241m%\u001b[39m value\n\u001b[0;32m   1003\u001b[0m \u001b[38;5;66;03m# Return empty list if driver returns null\u001b[39;00m\n\u001b[0;32m   1004\u001b[0m \u001b[38;5;66;03m# See https://github.com/SeleniumHQ/selenium/issues/4555\u001b[39;00m\n\u001b[1;32m-> 1005\u001b[0m \u001b[38;5;28;01mreturn\u001b[39;00m \u001b[38;5;28;43mself\u001b[39;49m\u001b[38;5;241;43m.\u001b[39;49m\u001b[43mexecute\u001b[49m\u001b[43m(\u001b[49m\u001b[43mCommand\u001b[49m\u001b[38;5;241;43m.\u001b[39;49m\u001b[43mFIND_ELEMENTS\u001b[49m\u001b[43m,\u001b[49m\u001b[43m \u001b[49m\u001b[43m{\u001b[49m\n\u001b[0;32m   1006\u001b[0m \u001b[43m    \u001b[49m\u001b[38;5;124;43m'\u001b[39;49m\u001b[38;5;124;43musing\u001b[39;49m\u001b[38;5;124;43m'\u001b[39;49m\u001b[43m:\u001b[49m\u001b[43m \u001b[49m\u001b[43mby\u001b[49m\u001b[43m,\u001b[49m\n\u001b[0;32m   1007\u001b[0m \u001b[43m    \u001b[49m\u001b[38;5;124;43m'\u001b[39;49m\u001b[38;5;124;43mvalue\u001b[39;49m\u001b[38;5;124;43m'\u001b[39;49m\u001b[43m:\u001b[49m\u001b[43m \u001b[49m\u001b[43mvalue\u001b[49m\u001b[43m}\u001b[49m\u001b[43m)\u001b[49m[\u001b[38;5;124m'\u001b[39m\u001b[38;5;124mvalue\u001b[39m\u001b[38;5;124m'\u001b[39m] \u001b[38;5;129;01mor\u001b[39;00m []\n",
      "File \u001b[1;32m~\\anaconda3\\lib\\site-packages\\selenium\\webdriver\\remote\\webdriver.py:321\u001b[0m, in \u001b[0;36mWebDriver.execute\u001b[1;34m(self, driver_command, params)\u001b[0m\n\u001b[0;32m    319\u001b[0m response \u001b[38;5;241m=\u001b[39m \u001b[38;5;28mself\u001b[39m\u001b[38;5;241m.\u001b[39mcommand_executor\u001b[38;5;241m.\u001b[39mexecute(driver_command, params)\n\u001b[0;32m    320\u001b[0m \u001b[38;5;28;01mif\u001b[39;00m response:\n\u001b[1;32m--> 321\u001b[0m     \u001b[38;5;28;43mself\u001b[39;49m\u001b[38;5;241;43m.\u001b[39;49m\u001b[43merror_handler\u001b[49m\u001b[38;5;241;43m.\u001b[39;49m\u001b[43mcheck_response\u001b[49m\u001b[43m(\u001b[49m\u001b[43mresponse\u001b[49m\u001b[43m)\u001b[49m\n\u001b[0;32m    322\u001b[0m     response[\u001b[38;5;124m'\u001b[39m\u001b[38;5;124mvalue\u001b[39m\u001b[38;5;124m'\u001b[39m] \u001b[38;5;241m=\u001b[39m \u001b[38;5;28mself\u001b[39m\u001b[38;5;241m.\u001b[39m_unwrap_value(\n\u001b[0;32m    323\u001b[0m         response\u001b[38;5;241m.\u001b[39mget(\u001b[38;5;124m'\u001b[39m\u001b[38;5;124mvalue\u001b[39m\u001b[38;5;124m'\u001b[39m, \u001b[38;5;28;01mNone\u001b[39;00m))\n\u001b[0;32m    324\u001b[0m     \u001b[38;5;28;01mreturn\u001b[39;00m response\n",
      "File \u001b[1;32m~\\anaconda3\\lib\\site-packages\\selenium\\webdriver\\remote\\errorhandler.py:242\u001b[0m, in \u001b[0;36mErrorHandler.check_response\u001b[1;34m(self, response)\u001b[0m\n\u001b[0;32m    240\u001b[0m         alert_text \u001b[38;5;241m=\u001b[39m value[\u001b[38;5;124m'\u001b[39m\u001b[38;5;124malert\u001b[39m\u001b[38;5;124m'\u001b[39m]\u001b[38;5;241m.\u001b[39mget(\u001b[38;5;124m'\u001b[39m\u001b[38;5;124mtext\u001b[39m\u001b[38;5;124m'\u001b[39m)\n\u001b[0;32m    241\u001b[0m     \u001b[38;5;28;01mraise\u001b[39;00m exception_class(message, screen, stacktrace, alert_text)\n\u001b[1;32m--> 242\u001b[0m \u001b[38;5;28;01mraise\u001b[39;00m exception_class(message, screen, stacktrace)\n",
      "\u001b[1;31mWebDriverException\u001b[0m: Message: unknown error: unexpected command response\n  (Session info: chrome=103.0.5060.114)\n"
     ]
    }
   ],
   "source": [
    "from selenium import webdriver\n",
    "from selenium.webdriver.common.keys import Keys\n",
    "from selenium.common.exceptions import NoSuchElementException\n",
    "import time\n",
    "import random\n",
    "from random import *\n",
    "\n",
    "# 정보 정리\n",
    "FollowCycle = 20\n",
    "ID = ''\n",
    "PW = ''\n",
    "keyword = ['']\n",
    "comment = ['',]\n",
    "LengthOfKeyword = len(keyword)\n",
    "LengthOfComment= len(comment)\n",
    "driver = webdriver.Chrome('D:\\InstaBot\\chromedriver.exe')\n",
    "driver.get('http://instagram.com')\n",
    "\n",
    "\n",
    "def login(ID, PW):\n",
    "    # 로그인\n",
    "    time.sleep(4)\n",
    "    ID = ''\n",
    "    PW = ''\n",
    "    e = driver.find_elements_by_class_name('_2hvTZ')[0]\n",
    "    e.send_keys(ID)\n",
    "    e = driver.find_elements_by_class_name('_2hvTZ')[1]\n",
    "    e.send_keys(PW)\n",
    "    e = driver.find_elements_by_class_name('Igw0E')[1]\n",
    "    e.click()\n",
    "    time.sleep(10)\n",
    "\n",
    "\n",
    "def later():\n",
    "    # 나중에하기1\n",
    "    e = driver.find_elements_by_class_name('sqdOP')[0]\n",
    "    e.click()\n",
    "    time.sleep(1)\n",
    "    # 나중에하기2\n",
    "    time.sleep(10)\n",
    "    e = driver.find_elements_by_class_name('_a9--')[0]\n",
    "    e.click()\n",
    "\n",
    "\n",
    "def GotoHashTag(keyword):\n",
    "    # 주소 + 해시태그 들어가기\n",
    "    adress = 'https://www.instagram.com/explore/tags/'\n",
    "    time.sleep(10)\n",
    "    driver.get(adress + keyword)\n",
    "    time.sleep(10)\n",
    "\n",
    "\n",
    "def SelectPhotos(n):\n",
    "    # 사진 선택\n",
    "    e = driver.find_elements_by_class_name('_aagw')[n]\n",
    "    e.click()\n",
    "    time.sleep(10)\n",
    "\n",
    "\n",
    "def LeaveComment(comment):\n",
    "    # 코멘트 남기기\n",
    "        try:\n",
    "            e = driver.find_elements_by_class_name('_aaoc')[0]\n",
    "            e.send_keys(comment)\n",
    "            time.sleep(5)\n",
    "            e = driver.find_elements_by_class_name('_aaoc')[0]\n",
    "            e.send_keys(Keys.RETURN)\n",
    "            time.sleep(5)\n",
    "        except:\n",
    "            time.sleep(5)\n",
    "        \n",
    "def Like():\n",
    "    try:\n",
    "        e = driver.find_elements_by_class_name('_abm0')[5]\n",
    "        e.click()\n",
    "        time.sleep(1)\n",
    "    except:\n",
    "        print(\"LIke Error\")\n",
    "        \n",
    "        \n",
    "def LikeAndFollow():\n",
    "    try:\n",
    "        e = driver.find_elements_by_class_name('_abm0')[5]\n",
    "        e.click()\n",
    "        time.sleep(1)\n",
    "    except:\n",
    "        print(\"LIke Error\")\n",
    "   \n",
    "    try:\n",
    "        e = driver.find_elements_by_class_name('_aacw')[0]\n",
    "        e.click()\n",
    "        time.sleep(15)\n",
    "    except:\n",
    "        print(\"ID Click Error\")\n",
    "    \n",
    "    try:\n",
    "        e = driver.find_elements_by_class_name('_abnn')[0]\n",
    "        e.click()\n",
    "        time.sleep(15)\n",
    "    except:\n",
    "        print(\"Follow Error\")\n",
    "\n",
    "\n",
    "def GoBack():\n",
    "    # 넘어가기 2 , 뒤로 가기 1\n",
    "    try :\n",
    "        driver.find_elements_by_class_name('_aaqg')[0].click() \n",
    "        time.sleep(5)\n",
    "    except :\n",
    "        driver.find_elements_by_class_name('_abl-')[0].click() \n",
    "        time.sleep(5)\n",
    "\n",
    "    \n",
    "    \n",
    "index = randint(-1, 1)\n",
    "cnt = 0\n",
    "login(ID, PW)\n",
    "later()\n",
    "    \n",
    "    \n",
    "\"\"\"\n",
    "\n",
    "\n",
    "while True:\n",
    "    FollowCnt = 0\n",
    "    CommentIndex =0\n",
    "    index = index + 1\n",
    "    index = index % 10\n",
    "    time.sleep(10)\n",
    "\n",
    "    while cnt != 3:\n",
    "        GotoHashTag(keyword[index])\n",
    "        SelectPhotos(cnt * 5 + 1)\n",
    "       # LeaveComment(comment[index])\n",
    "        LikeAndFollow()\n",
    "        #GoBack(2)\n",
    "        CommentIndex = (CommentIndex + 1)%LengthOfComment\n",
    "        cnt = cnt + 1\n",
    "        FollowCnt = FollowCnt + 1\n",
    "        FollowCnt = FollowCnt % 10\n",
    "        \n",
    "\"\"\""
   ]
  },
  {
   "cell_type": "code",
   "execution_count": 3,
   "id": "433446af",
   "metadata": {},
   "outputs": [
    {
     "ename": "KeyboardInterrupt",
     "evalue": "",
     "output_type": "error",
     "traceback": [
      "\u001b[1;31m---------------------------------------------------------------------------\u001b[0m",
      "\u001b[1;31mKeyboardInterrupt\u001b[0m                         Traceback (most recent call last)",
      "Input \u001b[1;32mIn [3]\u001b[0m, in \u001b[0;36m<cell line: 1>\u001b[1;34m()\u001b[0m\n\u001b[1;32m----> 1\u001b[0m \u001b[43mGotoHashTag\u001b[49m\u001b[43m(\u001b[49m\u001b[43mkeyword\u001b[49m\u001b[43m[\u001b[49m\u001b[38;5;241;43m0\u001b[39;49m\u001b[43m]\u001b[49m\u001b[43m)\u001b[49m\n",
      "Input \u001b[1;32mIn [2]\u001b[0m, in \u001b[0;36mGotoHashTag\u001b[1;34m(keyword)\u001b[0m\n\u001b[0;32m     45\u001b[0m \u001b[38;5;28;01mdef\u001b[39;00m \u001b[38;5;21mGotoHashTag\u001b[39m(keyword):\n\u001b[0;32m     46\u001b[0m     \u001b[38;5;66;03m# 주소 + 해시태그 들어가기\u001b[39;00m\n\u001b[0;32m     47\u001b[0m     adress \u001b[38;5;241m=\u001b[39m \u001b[38;5;124m'\u001b[39m\u001b[38;5;124mhttps://www.instagram.com/explore/tags/\u001b[39m\u001b[38;5;124m'\u001b[39m\n\u001b[1;32m---> 48\u001b[0m     \u001b[43mtime\u001b[49m\u001b[38;5;241;43m.\u001b[39;49m\u001b[43msleep\u001b[49m\u001b[43m(\u001b[49m\u001b[38;5;241;43m10\u001b[39;49m\u001b[43m)\u001b[49m\n\u001b[0;32m     49\u001b[0m     driver\u001b[38;5;241m.\u001b[39mget(adress \u001b[38;5;241m+\u001b[39m keyword)\n\u001b[0;32m     50\u001b[0m     time\u001b[38;5;241m.\u001b[39msleep(\u001b[38;5;241m10\u001b[39m)\n",
      "\u001b[1;31mKeyboardInterrupt\u001b[0m: "
     ]
    }
   ],
   "source": [
    "GotoHashTag(keyword[0])\n"
   ]
  },
  {
   "cell_type": "code",
   "execution_count": 11,
   "id": "e5309639",
   "metadata": {},
   "outputs": [],
   "source": [
    "GoBack()\n",
    "Like()\n",
    "\n"
   ]
  },
  {
   "cell_type": "code",
   "execution_count": null,
   "id": "d9df745f",
   "metadata": {},
   "outputs": [],
   "source": [
    "SelectPhotos(10)\n"
   ]
  },
  {
   "cell_type": "code",
   "execution_count": 16,
   "id": "8ba619fe",
   "metadata": {},
   "outputs": [],
   "source": []
  },
  {
   "cell_type": "code",
   "execution_count": 6,
   "id": "f674d54b",
   "metadata": {},
   "outputs": [
    {
     "ename": "ElementClickInterceptedException",
     "evalue": "Message: element click intercepted: Element <button class=\"_abl- _abm2\" type=\"button\">...</button> is not clickable at point (826, 30). Other element would receive the click: <div class=\"gs1a9yip rq0escxv j83agx80 cbu4d94t buofh1pr taijpn5t\" style=\"--fds-black:#000000; --fds-black-alpha-05:rgba(0, 0, 0, 0.05); --fds-black-alpha-10:rgba(0, 0, 0, 0.1); --fds-black-alpha-15:rgba(0, 0, 0, 0.15); --fds-black-alpha-20:rgba(0, 0, 0, 0.2); --fds-black-alpha-30:rgba(0, 0, 0, 0.3); --fds-black-alpha-40:rgba(0, 0, 0, 0.4); --fds-black-alpha-50:rgba(0, 0, 0, 0.5); --fds-black-alpha-60:rgba(0, 0, 0, 0.6); --fds-black-alpha-80:rgba(0, 0, 0, 0.8); --fds-blue-05:#ECF3FF; --fds-blue-30:#AAC9FF; --fds-blue-40:#77A7FF; --fds-blue-60:#1877F2; --fds-blue-70:#2851A3; --fds-blue-80:#1D3C78; --fds-button-text:#444950; --fds-comment-background:#F2F3F5; --fds-dark-mode-gray-35:#CCCCCC; --fds-dark-mode-gray-50:#828282; --fds-dark-mode-gray-70:#4A4A4A; --fds-dark-mode-gray-80:#373737; --fds-dark-mode-gray-90:#282828; --fds-dark-mode-gray-100:#1C1C1C; --fds-gray-00:#F5F6F7; --fds-gray-05:#F2F3F5; --fds-gray-10:#EBEDF0; --fds-gray-20:#DADDE1; --fds-gray-25:#CCD0D5; --fds-gray-30:#BEC3C9; --fds-gray-45:#8D949E; --fds-gray-70:#606770; --fds-gray-80:#444950; --fds-gray-90:#303338; --fds-gray-100:#1C1E21; --fds-green-55:#00A400; --fds-highlight:#3578E5; --fds-highlight-cell-background:#ECF3FF; --fds-primary-icon:#1C1E21; --fds-primary-text:#1C1E21; --fds-red-55:#FA383E; --fds-soft:cubic-bezier(0.08,0.52,0.52,1); --fds-spectrum-aluminum-tint-70:#E4F0F6; --fds-spectrum-blue-gray-tint-70:#CFD1D5; --fds-spectrum-cherry:#F35369; --fds-spectrum-cherry-tint-70:#FBCCD2; --fds-spectrum-grape-tint-70:#DDD5F0; --fds-spectrum-grape-tint-90:#F4F1FA; --fds-spectrum-lemon-dark-1:#F5C33B; --fds-spectrum-lemon-tint-70:#FEF2D1; --fds-spectrum-lime:#A3CE71; --fds-spectrum-lime-tint-70:#E4F0D5; --fds-spectrum-orange-tint-70:#FCDEC5; --fds-spectrum-orange-tint-90:#FEF4EC; --fds-spectrum-seafoam-tint-70:#CAEEF9; --fds-spectrum-slate-dark-2:#89A1AC; --fds-spectrum-slate-tint-70:#EAEFF2; --fds-spectrum-teal:#6BCEBB; --fds-spectrum-teal-dark-1:#4DBBA6; --fds-spectrum-teal-dark-2:#31A38D; --fds-spectrum-teal-tint-70:#D2F0EA; --fds-spectrum-teal-tint-90:#F0FAF8; --fds-spectrum-tomato:#FB724B; --fds-spectrum-tomato-tint-30:#F38E7B; --fds-spectrum-tomato-tint-90:#FDEFED; --fds-strong:cubic-bezier(0.12,0.8,0.32,1); --fds-white:#FFFFFF; --fds-white-alpha-05:rgba(255, 255, 255, 0.05); --fds-white-alpha-10:rgba(255, 255, 255, 0.1); --fds-white-alpha-20:rgba(255, 255, 255, 0.2); --fds-white-alpha-30:rgba(255, 255, 255, 0.3); --fds-white-alpha-40:rgba(255, 255, 255, 0.4); --fds-white-alpha-50:rgba(255, 255, 255, 0.5); --fds-white-alpha-60:rgba(255, 255, 255, 0.6); --fds-white-alpha-80:rgba(255, 255, 255, 0.8); --fds-yellow-20:#FFBA00; --accent:#0095F6; --always-white:#FFFFFF; --always-black:black; --always-dark-gradient:linear-gradient(rgba(0,0,0,0), rgba(0,0,0,0.6)); --always-dark-overlay:rgba(0, 0, 0, 0.4); --always-light-overlay:rgba(255, 255, 255, 0.4); --always-gray-40:#65676B; --always-gray-75:#BCC0C4; --always-gray-95:#F0F2F5; --attachment-footer-background:#F0F2F5; --background-deemphasized:#F0F2F5; --base-blue:#1877F2; --base-cherry:#F3425F; --base-grape:#9360F7; --base-lemon:#F7B928; --base-lime:#45BD62; --base-pink:#FF66BF; --base-seafoam:#54C7EC; --base-teal:#2ABBA7; --base-tomato:#FB724B; --blue-link:#00376B; --card-background:#FFFFFF; --card-background-flat:#F7F8FA; --comment-background:#F0F2F5; --comment-footer-background:#F6F9FA; --dataviz-primary-1:rgb(48,200,180); --disabled-button-background:rgba(0, 149, 246, 0.3); --disabled-button-text:#FFFFFF; --disabled-icon:#BCC0C4; --disabled-text:#BCC0C4; --divider:#DBDBDB; --event-date:#F3425F; --fb-wordmark:#1877F2; --filter-accent:invert(39%) sepia(57%) saturate(200%) saturate(200%) saturate(200%) saturate(200%) saturate(200%) saturate(147.75%) hue-rotate(202deg) brightness(97%) contrast(96%); --filter-always-white:invert(100%); --filter-disabled-icon:invert(80%) sepia(6%) saturate(200%) saturate(120%) hue-rotate(173deg) brightness(98%) contrast(89%); --filter-placeholder-icon:invert(59%) sepia(11%) saturate(200%) saturate(135%) hue-rotate(176deg) brightness(96%) contrast(94%); --filter-primary-icon:invert(8%) sepia(10%) saturate(200%) saturate(200%) saturate(166%) hue-rotate(177deg) brightness(104%) contrast(91%); --filter-secondary-icon:invert(39%) sepia(21%) saturate(200%) saturate(109.5%) hue-rotate(174deg) brightness(94%) contrast(86%); --filter-warning-icon:invert(77%) sepia(29%) saturate(200%) saturate(200%) saturate(200%) saturate(200%) saturate(200%) saturate(128%) hue-rotate(359deg) brightness(102%) contrast(107%); --filter-blue-link-icon:invert(30%) sepia(98%) saturate(200%) saturate(200%) saturate(200%) saturate(166.5%) hue-rotate(192deg) brightness(91%) contrast(101%); --filter-positive:invert(37%) sepia(61%) saturate(200%) saturate(200%) saturate(200%) saturate(200%) saturate(115%) hue-rotate(91deg) brightness(97%) contrast(105%); --filter-negative:invert(25%) sepia(33%) saturate(200%) saturate(200%) saturate(200%) saturate(200%) saturate(200%) saturate(200%) saturate(110%) hue-rotate(345deg) brightness(132%) contrast(96%); --glimmer-spinner-icon:#65676B; --hero-banner-background:#FFFFFF; --hosted-view-selected-state:rgba(45, 136, 255, 0.1); --highlight-bg:#E7F3FF; --hover-overlay:rgba(0, 0, 0, 0.05); --media-hover:rgba(68, 73, 80, 0.15); --media-inner-border:rgba(0, 0, 0, 0.1); --media-outer-border:#FFFFFF; --media-pressed:rgba(68, 73, 80, 0.35); --messenger-card-background:#FFFFFF; --messenger-reply-background:#F0F2F5; --overlay-alpha-80:rgba(0, 0, 0, 0.65); --overlay-on-media:rgba(0, 0, 0, 0.6); --nav-bar-background:#FFFFFF; --nav-bar-background-gradient:linear-gradient(to top, #FFFFFF, rgba(255,255,255.9), rgba(255,255,255,0.7), rgba(255,255,255,0.4), rgba(255,255,255,0)); --nav-bar-background-gradient-wash:linear-gradient(to top, #F0F2F5, rgba(240,242,245.9), rgba(240,242,245,0.7), rgba(240,242,245,0.4), rgba(240,242,245,0)); --negative:hsl(350, 87%, 55%); --negative-background:hsl(350, 87%, 55%, 20%); --new-notification-background:#E7F3FF; --non-media-pressed:rgba(68, 73, 80, 0.15); --non-media-pressed-on-dark:rgba(255, 255, 255, 0.3); --notification-badge:#e41e3f; --placeholder-icon:#8A8D91; --placeholder-image:rgb(164, 167, 171); --placeholder-text:#8A8D91; --placeholder-text-on-media:rgba(255, 255, 255, 0.5); --popover-background:#FFFFFF; --positive:#31A24C; --positive-background:#DEEFE1; --press-overlay:rgba(0, 0, 0, 0.1); --primary-button-background:#0095F6; --primary-button-pressed:#77A7FF; --primary-button-text:#FFFFFF; --primary-deemphasized-button-background:rgba(0, 149, 246, 0.1); --primary-deemphasized-button-pressed:rgba(0, 149, 246, 0.05); --primary-deemphasized-button-pressed-overlay:rgba(0, 149, 246, 0.15); --primary-deemphasized-button-text:#0095F6; --primary-icon:#262626; --primary-text:#262626; --primary-text-on-media:#FFFFFF; --primary-web-focus-indicator:#D24294; --progress-ring-neutral-background:rgba(0, 0, 0, 0.2); --progress-ring-neutral-foreground:#000000; --progress-ring-on-media-background:rgba(255, 255, 255, 0.2); --progress-ring-on-media-foreground:#FFFFFF; --progress-ring-blue-background:rgba(24, 119, 242, 0.2); --progress-ring-blue-foreground:hsl(214, 89%, 52%); --progress-ring-disabled-background:rgba(190,195,201, 0.2); --progress-ring-disabled-foreground:#BEC3C9; --rating-star-active:#EB660D; --scroll-thumb:#BCC0C4; --scroll-shadow:0 1px 2px rgba(0, 0, 0, 0.1), 0 -1px rgba(0, 0, 0, 0.1) inset; --secondary-button-background:transparent; --secondary-button-background-floating:#ffffff; --secondary-button-background-on-dark:rgba(0, 0, 0, 0.4); --secondary-button-pressed:rgba(0, 0, 0, 0.05); --secondary-button-stroke:transparent; --secondary-button-text:#0095F6; --secondary-icon:#8E8E8E; --secondary-text:#8E8E8E; --secondary-text-on-media:rgba(255, 255, 255, 0.9); --section-header-text:#4B4C4F; --shadow-1:rgba(0, 0, 0, 0.1); --shadow-2:rgba(0, 0, 0, 0.2); --shadow-5:rgba(0, 0, 0, 0.5); --shadow-8:rgba(0, 0, 0, 0.8); --shadow-inset:rgba(255, 255, 255, 0.5); --surface-background:#FFFFFF; --text-highlight:rgba(24, 119, 242, 0.2); --toggle-active-background:#E7F3FF; --toggle-active-icon:rgb(24, 119, 242); --toggle-active-text:rgb(24, 119, 242); --toggle-button-active-background:#E7F3FF; --wash:#FAFAFA; --web-wash:#FAFAFA; --warning:hsl(40, 89%, 52%); --fb-logo-color:#2D88FF; --dialog-anchor-vertical-padding:56px; --header-height:0px; --global-panel-width:0px; --global-panel-width-expanded:0px; --button-corner-radius:4px; --card-corner-radius:4px; --fds-animation-enter-exit-in:cubic-bezier(0.14, 1, 0.34, 1); --fds-animation-enter-exit-out:cubic-bezier(0.45, 0.1, 0.2, 1); --fds-animation-swap-shuffle-in:cubic-bezier(0.14, 1, 0.34, 1); --fds-animation-swap-shuffle-out:cubic-bezier(0.45, 0.1, 0.2, 1); --fds-animation-move-in:cubic-bezier(0.17, 0.17, 0, 1); --fds-animation-move-out:cubic-bezier(0.17, 0.17, 0, 1); --fds-animation-expand-collapse-in:cubic-bezier(0.17, 0.17, 0, 1); --fds-animation-expand-collapse-out:cubic-bezier(0.17, 0.17, 0, 1); --fds-animation-passive-move-in:cubic-bezier(0.5, 0, 0.1, 1); --fds-animation-passive-move-out:cubic-bezier(0.5, 0, 0.1, 1); --fds-animation-quick-move-in:cubic-bezier(0.1, 0.9, 0.2, 1); --fds-animation-quick-move-out:cubic-bezier(0.1, 0.9, 0.2, 1); --fds-animation-fade-in:cubic-bezier(0, 0, 1, 1); --fds-animation-fade-out:cubic-bezier(0, 0, 1, 1); --fds-duration-extra-extra-short-in:100ms; --fds-duration-extra-extra-short-out:100ms; --fds-duration-extra-short-in:200ms; --fds-duration-extra-short-out:150ms; --fds-duration-short-in:280ms; --fds-duration-short-out:200ms; --fds-duration-medium-in:400ms; --fds-duration-medium-out:350ms; --fds-duration-long-in:500ms; --fds-duration-long-out:350ms; --fds-duration-extra-long-in:1000ms; --fds-duration-extra-long-out:1000ms; --fds-duration-none:0ms; --fds-fast:200ms; --fds-slow:400ms; --font-family-apple:system-ui, -apple-system, BlinkMacSystemFont, &quot;.SFNSText-Regular&quot;, sans-serif; --font-family-code:ui-monospace, Menlo, Consolas, Monaco, monospace; --font-family-default:Helvetica, Arial, sans-serif; --font-family-segoe:Segoe UI Historic, Segoe UI, Helvetica, Arial, sans-serif; --dataviz-primary-2:rgb(134,218,255); --dataviz-primary-3:rgb(95,170,255); --dataviz-secondary-1:rgb(118,62,230); --dataviz-secondary-2:rgb(147,96,247); --dataviz-secondary-3:rgb(219,26,139); --dataviz-supplementary-1:rgb(255,122,105); --dataviz-supplementary-2:rgb(241,168,23); --dataviz-supplementary-3:rgb(49,162,76); --dataviz-supplementary-4:rgb(50,52,54); --base-unit:4px; --breakpoint-medium-width:1536px; --breakpoint-small-width:1024px; --challenge-width:460px; --cluster-card-border-radius:8px; --creation-composer-height:81px; --creation-header-composer-height:126px; --desktop-cluster-card-height:89px; --desktop-collapsed-nav-height:52px; --desktop-grid-item-margin:28px; --desktop-in-feed-story-item-height:208px; --desktop-in-feed-story-item-width:116px; --desktop-large-modal-max-height:781px; --desktop-large-modal-max-width:1491px; --desktop-large-modal-min-height:664px; --desktop-large-modal-min-width:908px; --desktop-nav-anim-duration:0.2s; --desktop-nav-search-box-width:215px; --desktop-regular-nav-height:60px; --desktop-skinny-nav-height:60px; --desktop-nav-height:60px; --direct-attachment-image-grid-border-size:1px; --direct-attachment-image-grid-item-size:78px; --direct-attachment-image-grid-width:236px; --direct-attachment-story-height:150px; --direct-attachment-story-large-height:256px; --direct-attachment-story-large-width:164px; --direct-attachment-story-width:84px; --direct-message-margin:8px; --direct-message-max-width:236px; --extra-small-screen-max:413px; --fb-signup-page-profile-pic-size:88px; --feed-width-wide:614px; --feed-with-padding-threshold-min:640px; --font-family-system:-apple-system, BlinkMacSystemFont, &quot;Segoe UI&quot;, Roboto, Helvetica, Arial, sans-serif; --font-weight-system-bold:700; --font-weight-system-extra-bold:800; --font-weight-system-extra-light:200; --font-weight-system-light:300; --font-weight-system-medium:500; --font-weight-system-regular:400; --font-weight-system-semibold:600; --grid-column-width-modal:6.25%; --grid-column-width:5.55556%; --hscc-collapse-transition-duration:0.3s; --igui-border-radius:3px; --in-feed-story-item-height:240px; --in-feed-story-item-width:135px; --input-border-radius:6px; --large-screen-min:876px; --like-animation-duration:1000ms; --live-video-border-radius:4px; --live-video-right-col-width:336px; --media-info:335px; --medium-screen-max:875px; --medium-screen-min:736px; --mobile-cluster-card-height:74px; --mobile-grid-item-margin:2px; --mobile-nav-height:45px; --modal-border-radius:12px; --modal-padding:16px; --modal-z-index:100; --photo:600px; --post-modal-large-screen-min:1536px; --post-modal-small-screen-max:1366px; --refinement-section-height:50px; --scrollable-content-header-height-large:56px; --scrollable-content-header-height:44px; --search-modal-height-expanded:450px; --search-modal-height:362px; --search-modal-top-offset:12px; --search-result-height:50px; --search-result-list-width:375px; --site-padding-top:30px; --site-width-narrow:600px; --site-width-wide:935px; --small-screen-max:735px; --small-screen-min:414px; --story-cube-shading-duration:200ms; --story-desktop-margin-bottom:26px; --story-desktop-margin-top:82px; --story-gallery-preview-scale-correction:2.5; --story-progressbar-update-tick:0.1s; --story-swap-animation-duration:350ms; --system-10-font-size:10px; --system-10-line-height:12px; --system-11-font-size:11px; --system-11-line-height:13px; --system-12-font-size:12px; --system-12-line-height:16px; --system-14-font-size:14px; --system-14-line-height:18px; --system-16-font-size:16px; --system-16-line-height:24px; --system-18-font-size:18px; --system-18-line-height:24px; --system-20-font-size:20px; --system-20-line-height:25px; --system-22-font-size:22px; --system-22-line-height:26px; --system-24-font-size:24px; --system-24-line-height:27px; --system-26-font-size:26px; --system-26-line-height:28px; --system-28-font-size:28px; --system-28-line-height:32px; --system-32-font-size:32px; --system-32-line-height:40px; --blue-0:#f5fbff; --blue-2:#b3dbff; --blue-4:#47afff; --blue-5:#0095f6; --blue-6:#0074cc; --blue-7:#0057a3; --blue-8:#00376b; --blue-9:#002952; --challenge-link:54,54,54; --clr-separator:#efefef; --clr_red_dark_30:#af2634; --cyan-5:#27c4f5; --docpen-lightgrey:243,243,243; --fb-connect-blue:#4f67b0; --green-4:#78de45; --green-5:#58c322; --green-6:#37a600; --grey-1:#efefef; --grey-2:#dbdbdb; --grey-4:#a8a8a8; --grey-5:#8e8e8e; --grey-6:#737373; --grey-8:#363636; --grey-9:#262626; --ig-badge:255, 48, 65; --ig-elevated-background:255,255,255; --ig-elevated-separator:219,219,219; --ig-error-or-destructive:237,73,86; --ig-facebook-blue:53,121,234; --ig-focus-stroke:168,168,168; --ig-highlight-background:239,239,239; --ig-link:0,55,107; --ig-primary-background:255,255,255; --ig-primary-button:0,149,246; --ig-primary-text:38,38,38; --ig-secondary-background:250,250,250; --ig-secondary-button:38,38,38; --ig-secondary-text:142,142,142; --ig-separator:219,219,219; --ig-stroke:219,219,219; --ig-success:88,195,34; --ig-temporary-highlight:245,251,255; --ig-tertiary-text:199,199,199; --ig-text-on-color:255,255,255; --orange-5:#fd8d32; --pink-5:#d10869; --post-separator:239,239,239; --post-step-indicator:168,168,168; --purple-5:#a307ba; --red-4:#ff6874; --red-5:#ed4956; --red-6:#c62330; --red-7:#a70311; --tos-box-shadow:0,0,0; --web-always-black:0,0,0; --web-always-white:255,255,255; --web-secondary-action:224,241,255; --yellow-5:#fdcb5c;\">...</div>\n  (Session info: chrome=103.0.5060.114)\n",
     "output_type": "error",
     "traceback": [
      "\u001b[1;31m---------------------------------------------------------------------------\u001b[0m",
      "\u001b[1;31mNameError\u001b[0m                                 Traceback (most recent call last)",
      "Input \u001b[1;32mIn [2]\u001b[0m, in \u001b[0;36mGoBack\u001b[1;34m()\u001b[0m\n\u001b[0;32m    107\u001b[0m driver\u001b[38;5;241m.\u001b[39mfind_elements_by_class_name(\u001b[38;5;124m'\u001b[39m\u001b[38;5;124m_aaqg\u001b[39m\u001b[38;5;124m'\u001b[39m)[\u001b[38;5;241m0\u001b[39m]\u001b[38;5;241m.\u001b[39mclick() \n\u001b[1;32m--> 108\u001b[0m \u001b[43me\u001b[49m\u001b[38;5;241m.\u001b[39mclick()\n\u001b[0;32m    109\u001b[0m time\u001b[38;5;241m.\u001b[39msleep(\u001b[38;5;241m5\u001b[39m)\n",
      "\u001b[1;31mNameError\u001b[0m: name 'e' is not defined",
      "\nDuring handling of the above exception, another exception occurred:\n",
      "\u001b[1;31mElementClickInterceptedException\u001b[0m          Traceback (most recent call last)",
      "Input \u001b[1;32mIn [6]\u001b[0m, in \u001b[0;36m<cell line: 1>\u001b[1;34m()\u001b[0m\n\u001b[1;32m----> 1\u001b[0m \u001b[43mGoBack\u001b[49m\u001b[43m(\u001b[49m\u001b[43m)\u001b[49m\n\u001b[0;32m      2\u001b[0m Pre_url \u001b[38;5;241m=\u001b[39m \u001b[38;5;124m\"\u001b[39m\u001b[38;5;124mA\u001b[39m\u001b[38;5;124m\"\u001b[39m\n\u001b[0;32m      3\u001b[0m Current_url \u001b[38;5;241m=\u001b[39m \u001b[38;5;124m\"\u001b[39m\u001b[38;5;124mB\u001b[39m\u001b[38;5;124m\"\u001b[39m\n",
      "Input \u001b[1;32mIn [2]\u001b[0m, in \u001b[0;36mGoBack\u001b[1;34m()\u001b[0m\n\u001b[0;32m    109\u001b[0m     time\u001b[38;5;241m.\u001b[39msleep(\u001b[38;5;241m5\u001b[39m)\n\u001b[0;32m    110\u001b[0m \u001b[38;5;28;01mexcept\u001b[39;00m :\n\u001b[1;32m--> 111\u001b[0m     \u001b[43mdriver\u001b[49m\u001b[38;5;241;43m.\u001b[39;49m\u001b[43mfind_elements_by_class_name\u001b[49m\u001b[43m(\u001b[49m\u001b[38;5;124;43m'\u001b[39;49m\u001b[38;5;124;43m_abl-\u001b[39;49m\u001b[38;5;124;43m'\u001b[39;49m\u001b[43m)\u001b[49m\u001b[43m[\u001b[49m\u001b[38;5;241;43m0\u001b[39;49m\u001b[43m]\u001b[49m\u001b[38;5;241;43m.\u001b[39;49m\u001b[43mclick\u001b[49m\u001b[43m(\u001b[49m\u001b[43m)\u001b[49m \n\u001b[0;32m    112\u001b[0m     e\u001b[38;5;241m.\u001b[39mclick()\n\u001b[0;32m    113\u001b[0m     time\u001b[38;5;241m.\u001b[39msleep(\u001b[38;5;241m5\u001b[39m)\n",
      "File \u001b[1;32m~\\anaconda3\\lib\\site-packages\\selenium\\webdriver\\remote\\webelement.py:80\u001b[0m, in \u001b[0;36mWebElement.click\u001b[1;34m(self)\u001b[0m\n\u001b[0;32m     78\u001b[0m \u001b[38;5;28;01mdef\u001b[39;00m \u001b[38;5;21mclick\u001b[39m(\u001b[38;5;28mself\u001b[39m):\n\u001b[0;32m     79\u001b[0m     \u001b[38;5;124;03m\"\"\"Clicks the element.\"\"\"\u001b[39;00m\n\u001b[1;32m---> 80\u001b[0m     \u001b[38;5;28;43mself\u001b[39;49m\u001b[38;5;241;43m.\u001b[39;49m\u001b[43m_execute\u001b[49m\u001b[43m(\u001b[49m\u001b[43mCommand\u001b[49m\u001b[38;5;241;43m.\u001b[39;49m\u001b[43mCLICK_ELEMENT\u001b[49m\u001b[43m)\u001b[49m\n",
      "File \u001b[1;32m~\\anaconda3\\lib\\site-packages\\selenium\\webdriver\\remote\\webelement.py:633\u001b[0m, in \u001b[0;36mWebElement._execute\u001b[1;34m(self, command, params)\u001b[0m\n\u001b[0;32m    631\u001b[0m     params \u001b[38;5;241m=\u001b[39m {}\n\u001b[0;32m    632\u001b[0m params[\u001b[38;5;124m'\u001b[39m\u001b[38;5;124mid\u001b[39m\u001b[38;5;124m'\u001b[39m] \u001b[38;5;241m=\u001b[39m \u001b[38;5;28mself\u001b[39m\u001b[38;5;241m.\u001b[39m_id\n\u001b[1;32m--> 633\u001b[0m \u001b[38;5;28;01mreturn\u001b[39;00m \u001b[38;5;28;43mself\u001b[39;49m\u001b[38;5;241;43m.\u001b[39;49m\u001b[43m_parent\u001b[49m\u001b[38;5;241;43m.\u001b[39;49m\u001b[43mexecute\u001b[49m\u001b[43m(\u001b[49m\u001b[43mcommand\u001b[49m\u001b[43m,\u001b[49m\u001b[43m \u001b[49m\u001b[43mparams\u001b[49m\u001b[43m)\u001b[49m\n",
      "File \u001b[1;32m~\\anaconda3\\lib\\site-packages\\selenium\\webdriver\\remote\\webdriver.py:321\u001b[0m, in \u001b[0;36mWebDriver.execute\u001b[1;34m(self, driver_command, params)\u001b[0m\n\u001b[0;32m    319\u001b[0m response \u001b[38;5;241m=\u001b[39m \u001b[38;5;28mself\u001b[39m\u001b[38;5;241m.\u001b[39mcommand_executor\u001b[38;5;241m.\u001b[39mexecute(driver_command, params)\n\u001b[0;32m    320\u001b[0m \u001b[38;5;28;01mif\u001b[39;00m response:\n\u001b[1;32m--> 321\u001b[0m     \u001b[38;5;28;43mself\u001b[39;49m\u001b[38;5;241;43m.\u001b[39;49m\u001b[43merror_handler\u001b[49m\u001b[38;5;241;43m.\u001b[39;49m\u001b[43mcheck_response\u001b[49m\u001b[43m(\u001b[49m\u001b[43mresponse\u001b[49m\u001b[43m)\u001b[49m\n\u001b[0;32m    322\u001b[0m     response[\u001b[38;5;124m'\u001b[39m\u001b[38;5;124mvalue\u001b[39m\u001b[38;5;124m'\u001b[39m] \u001b[38;5;241m=\u001b[39m \u001b[38;5;28mself\u001b[39m\u001b[38;5;241m.\u001b[39m_unwrap_value(\n\u001b[0;32m    323\u001b[0m         response\u001b[38;5;241m.\u001b[39mget(\u001b[38;5;124m'\u001b[39m\u001b[38;5;124mvalue\u001b[39m\u001b[38;5;124m'\u001b[39m, \u001b[38;5;28;01mNone\u001b[39;00m))\n\u001b[0;32m    324\u001b[0m     \u001b[38;5;28;01mreturn\u001b[39;00m response\n",
      "File \u001b[1;32m~\\anaconda3\\lib\\site-packages\\selenium\\webdriver\\remote\\errorhandler.py:242\u001b[0m, in \u001b[0;36mErrorHandler.check_response\u001b[1;34m(self, response)\u001b[0m\n\u001b[0;32m    240\u001b[0m         alert_text \u001b[38;5;241m=\u001b[39m value[\u001b[38;5;124m'\u001b[39m\u001b[38;5;124malert\u001b[39m\u001b[38;5;124m'\u001b[39m]\u001b[38;5;241m.\u001b[39mget(\u001b[38;5;124m'\u001b[39m\u001b[38;5;124mtext\u001b[39m\u001b[38;5;124m'\u001b[39m)\n\u001b[0;32m    241\u001b[0m     \u001b[38;5;28;01mraise\u001b[39;00m exception_class(message, screen, stacktrace, alert_text)\n\u001b[1;32m--> 242\u001b[0m \u001b[38;5;28;01mraise\u001b[39;00m exception_class(message, screen, stacktrace)\n",
      "\u001b[1;31mElementClickInterceptedException\u001b[0m: Message: element click intercepted: Element <button class=\"_abl- _abm2\" type=\"button\">...</button> is not clickable at point (826, 30). Other element would receive the click: <div class=\"gs1a9yip rq0escxv j83agx80 cbu4d94t buofh1pr taijpn5t\" style=\"--fds-black:#000000; --fds-black-alpha-05:rgba(0, 0, 0, 0.05); --fds-black-alpha-10:rgba(0, 0, 0, 0.1); --fds-black-alpha-15:rgba(0, 0, 0, 0.15); --fds-black-alpha-20:rgba(0, 0, 0, 0.2); --fds-black-alpha-30:rgba(0, 0, 0, 0.3); --fds-black-alpha-40:rgba(0, 0, 0, 0.4); --fds-black-alpha-50:rgba(0, 0, 0, 0.5); --fds-black-alpha-60:rgba(0, 0, 0, 0.6); --fds-black-alpha-80:rgba(0, 0, 0, 0.8); --fds-blue-05:#ECF3FF; --fds-blue-30:#AAC9FF; --fds-blue-40:#77A7FF; --fds-blue-60:#1877F2; --fds-blue-70:#2851A3; --fds-blue-80:#1D3C78; --fds-button-text:#444950; --fds-comment-background:#F2F3F5; --fds-dark-mode-gray-35:#CCCCCC; --fds-dark-mode-gray-50:#828282; --fds-dark-mode-gray-70:#4A4A4A; --fds-dark-mode-gray-80:#373737; --fds-dark-mode-gray-90:#282828; --fds-dark-mode-gray-100:#1C1C1C; --fds-gray-00:#F5F6F7; --fds-gray-05:#F2F3F5; --fds-gray-10:#EBEDF0; --fds-gray-20:#DADDE1; --fds-gray-25:#CCD0D5; --fds-gray-30:#BEC3C9; --fds-gray-45:#8D949E; --fds-gray-70:#606770; --fds-gray-80:#444950; --fds-gray-90:#303338; --fds-gray-100:#1C1E21; --fds-green-55:#00A400; --fds-highlight:#3578E5; --fds-highlight-cell-background:#ECF3FF; --fds-primary-icon:#1C1E21; --fds-primary-text:#1C1E21; --fds-red-55:#FA383E; --fds-soft:cubic-bezier(0.08,0.52,0.52,1); --fds-spectrum-aluminum-tint-70:#E4F0F6; --fds-spectrum-blue-gray-tint-70:#CFD1D5; --fds-spectrum-cherry:#F35369; --fds-spectrum-cherry-tint-70:#FBCCD2; --fds-spectrum-grape-tint-70:#DDD5F0; --fds-spectrum-grape-tint-90:#F4F1FA; --fds-spectrum-lemon-dark-1:#F5C33B; --fds-spectrum-lemon-tint-70:#FEF2D1; --fds-spectrum-lime:#A3CE71; --fds-spectrum-lime-tint-70:#E4F0D5; --fds-spectrum-orange-tint-70:#FCDEC5; --fds-spectrum-orange-tint-90:#FEF4EC; --fds-spectrum-seafoam-tint-70:#CAEEF9; --fds-spectrum-slate-dark-2:#89A1AC; --fds-spectrum-slate-tint-70:#EAEFF2; --fds-spectrum-teal:#6BCEBB; --fds-spectrum-teal-dark-1:#4DBBA6; --fds-spectrum-teal-dark-2:#31A38D; --fds-spectrum-teal-tint-70:#D2F0EA; --fds-spectrum-teal-tint-90:#F0FAF8; --fds-spectrum-tomato:#FB724B; --fds-spectrum-tomato-tint-30:#F38E7B; --fds-spectrum-tomato-tint-90:#FDEFED; --fds-strong:cubic-bezier(0.12,0.8,0.32,1); --fds-white:#FFFFFF; --fds-white-alpha-05:rgba(255, 255, 255, 0.05); --fds-white-alpha-10:rgba(255, 255, 255, 0.1); --fds-white-alpha-20:rgba(255, 255, 255, 0.2); --fds-white-alpha-30:rgba(255, 255, 255, 0.3); --fds-white-alpha-40:rgba(255, 255, 255, 0.4); --fds-white-alpha-50:rgba(255, 255, 255, 0.5); --fds-white-alpha-60:rgba(255, 255, 255, 0.6); --fds-white-alpha-80:rgba(255, 255, 255, 0.8); --fds-yellow-20:#FFBA00; --accent:#0095F6; --always-white:#FFFFFF; --always-black:black; --always-dark-gradient:linear-gradient(rgba(0,0,0,0), rgba(0,0,0,0.6)); --always-dark-overlay:rgba(0, 0, 0, 0.4); --always-light-overlay:rgba(255, 255, 255, 0.4); --always-gray-40:#65676B; --always-gray-75:#BCC0C4; --always-gray-95:#F0F2F5; --attachment-footer-background:#F0F2F5; --background-deemphasized:#F0F2F5; --base-blue:#1877F2; --base-cherry:#F3425F; --base-grape:#9360F7; --base-lemon:#F7B928; --base-lime:#45BD62; --base-pink:#FF66BF; --base-seafoam:#54C7EC; --base-teal:#2ABBA7; --base-tomato:#FB724B; --blue-link:#00376B; --card-background:#FFFFFF; --card-background-flat:#F7F8FA; --comment-background:#F0F2F5; --comment-footer-background:#F6F9FA; --dataviz-primary-1:rgb(48,200,180); --disabled-button-background:rgba(0, 149, 246, 0.3); --disabled-button-text:#FFFFFF; --disabled-icon:#BCC0C4; --disabled-text:#BCC0C4; --divider:#DBDBDB; --event-date:#F3425F; --fb-wordmark:#1877F2; --filter-accent:invert(39%) sepia(57%) saturate(200%) saturate(200%) saturate(200%) saturate(200%) saturate(200%) saturate(147.75%) hue-rotate(202deg) brightness(97%) contrast(96%); --filter-always-white:invert(100%); --filter-disabled-icon:invert(80%) sepia(6%) saturate(200%) saturate(120%) hue-rotate(173deg) brightness(98%) contrast(89%); --filter-placeholder-icon:invert(59%) sepia(11%) saturate(200%) saturate(135%) hue-rotate(176deg) brightness(96%) contrast(94%); --filter-primary-icon:invert(8%) sepia(10%) saturate(200%) saturate(200%) saturate(166%) hue-rotate(177deg) brightness(104%) contrast(91%); --filter-secondary-icon:invert(39%) sepia(21%) saturate(200%) saturate(109.5%) hue-rotate(174deg) brightness(94%) contrast(86%); --filter-warning-icon:invert(77%) sepia(29%) saturate(200%) saturate(200%) saturate(200%) saturate(200%) saturate(200%) saturate(128%) hue-rotate(359deg) brightness(102%) contrast(107%); --filter-blue-link-icon:invert(30%) sepia(98%) saturate(200%) saturate(200%) saturate(200%) saturate(166.5%) hue-rotate(192deg) brightness(91%) contrast(101%); --filter-positive:invert(37%) sepia(61%) saturate(200%) saturate(200%) saturate(200%) saturate(200%) saturate(115%) hue-rotate(91deg) brightness(97%) contrast(105%); --filter-negative:invert(25%) sepia(33%) saturate(200%) saturate(200%) saturate(200%) saturate(200%) saturate(200%) saturate(200%) saturate(110%) hue-rotate(345deg) brightness(132%) contrast(96%); --glimmer-spinner-icon:#65676B; --hero-banner-background:#FFFFFF; --hosted-view-selected-state:rgba(45, 136, 255, 0.1); --highlight-bg:#E7F3FF; --hover-overlay:rgba(0, 0, 0, 0.05); --media-hover:rgba(68, 73, 80, 0.15); --media-inner-border:rgba(0, 0, 0, 0.1); --media-outer-border:#FFFFFF; --media-pressed:rgba(68, 73, 80, 0.35); --messenger-card-background:#FFFFFF; --messenger-reply-background:#F0F2F5; --overlay-alpha-80:rgba(0, 0, 0, 0.65); --overlay-on-media:rgba(0, 0, 0, 0.6); --nav-bar-background:#FFFFFF; --nav-bar-background-gradient:linear-gradient(to top, #FFFFFF, rgba(255,255,255.9), rgba(255,255,255,0.7), rgba(255,255,255,0.4), rgba(255,255,255,0)); --nav-bar-background-gradient-wash:linear-gradient(to top, #F0F2F5, rgba(240,242,245.9), rgba(240,242,245,0.7), rgba(240,242,245,0.4), rgba(240,242,245,0)); --negative:hsl(350, 87%, 55%); --negative-background:hsl(350, 87%, 55%, 20%); --new-notification-background:#E7F3FF; --non-media-pressed:rgba(68, 73, 80, 0.15); --non-media-pressed-on-dark:rgba(255, 255, 255, 0.3); --notification-badge:#e41e3f; --placeholder-icon:#8A8D91; --placeholder-image:rgb(164, 167, 171); --placeholder-text:#8A8D91; --placeholder-text-on-media:rgba(255, 255, 255, 0.5); --popover-background:#FFFFFF; --positive:#31A24C; --positive-background:#DEEFE1; --press-overlay:rgba(0, 0, 0, 0.1); --primary-button-background:#0095F6; --primary-button-pressed:#77A7FF; --primary-button-text:#FFFFFF; --primary-deemphasized-button-background:rgba(0, 149, 246, 0.1); --primary-deemphasized-button-pressed:rgba(0, 149, 246, 0.05); --primary-deemphasized-button-pressed-overlay:rgba(0, 149, 246, 0.15); --primary-deemphasized-button-text:#0095F6; --primary-icon:#262626; --primary-text:#262626; --primary-text-on-media:#FFFFFF; --primary-web-focus-indicator:#D24294; --progress-ring-neutral-background:rgba(0, 0, 0, 0.2); --progress-ring-neutral-foreground:#000000; --progress-ring-on-media-background:rgba(255, 255, 255, 0.2); --progress-ring-on-media-foreground:#FFFFFF; --progress-ring-blue-background:rgba(24, 119, 242, 0.2); --progress-ring-blue-foreground:hsl(214, 89%, 52%); --progress-ring-disabled-background:rgba(190,195,201, 0.2); --progress-ring-disabled-foreground:#BEC3C9; --rating-star-active:#EB660D; --scroll-thumb:#BCC0C4; --scroll-shadow:0 1px 2px rgba(0, 0, 0, 0.1), 0 -1px rgba(0, 0, 0, 0.1) inset; --secondary-button-background:transparent; --secondary-button-background-floating:#ffffff; --secondary-button-background-on-dark:rgba(0, 0, 0, 0.4); --secondary-button-pressed:rgba(0, 0, 0, 0.05); --secondary-button-stroke:transparent; --secondary-button-text:#0095F6; --secondary-icon:#8E8E8E; --secondary-text:#8E8E8E; --secondary-text-on-media:rgba(255, 255, 255, 0.9); --section-header-text:#4B4C4F; --shadow-1:rgba(0, 0, 0, 0.1); --shadow-2:rgba(0, 0, 0, 0.2); --shadow-5:rgba(0, 0, 0, 0.5); --shadow-8:rgba(0, 0, 0, 0.8); --shadow-inset:rgba(255, 255, 255, 0.5); --surface-background:#FFFFFF; --text-highlight:rgba(24, 119, 242, 0.2); --toggle-active-background:#E7F3FF; --toggle-active-icon:rgb(24, 119, 242); --toggle-active-text:rgb(24, 119, 242); --toggle-button-active-background:#E7F3FF; --wash:#FAFAFA; --web-wash:#FAFAFA; --warning:hsl(40, 89%, 52%); --fb-logo-color:#2D88FF; --dialog-anchor-vertical-padding:56px; --header-height:0px; --global-panel-width:0px; --global-panel-width-expanded:0px; --button-corner-radius:4px; --card-corner-radius:4px; --fds-animation-enter-exit-in:cubic-bezier(0.14, 1, 0.34, 1); --fds-animation-enter-exit-out:cubic-bezier(0.45, 0.1, 0.2, 1); --fds-animation-swap-shuffle-in:cubic-bezier(0.14, 1, 0.34, 1); --fds-animation-swap-shuffle-out:cubic-bezier(0.45, 0.1, 0.2, 1); --fds-animation-move-in:cubic-bezier(0.17, 0.17, 0, 1); --fds-animation-move-out:cubic-bezier(0.17, 0.17, 0, 1); --fds-animation-expand-collapse-in:cubic-bezier(0.17, 0.17, 0, 1); --fds-animation-expand-collapse-out:cubic-bezier(0.17, 0.17, 0, 1); --fds-animation-passive-move-in:cubic-bezier(0.5, 0, 0.1, 1); --fds-animation-passive-move-out:cubic-bezier(0.5, 0, 0.1, 1); --fds-animation-quick-move-in:cubic-bezier(0.1, 0.9, 0.2, 1); --fds-animation-quick-move-out:cubic-bezier(0.1, 0.9, 0.2, 1); --fds-animation-fade-in:cubic-bezier(0, 0, 1, 1); --fds-animation-fade-out:cubic-bezier(0, 0, 1, 1); --fds-duration-extra-extra-short-in:100ms; --fds-duration-extra-extra-short-out:100ms; --fds-duration-extra-short-in:200ms; --fds-duration-extra-short-out:150ms; --fds-duration-short-in:280ms; --fds-duration-short-out:200ms; --fds-duration-medium-in:400ms; --fds-duration-medium-out:350ms; --fds-duration-long-in:500ms; --fds-duration-long-out:350ms; --fds-duration-extra-long-in:1000ms; --fds-duration-extra-long-out:1000ms; --fds-duration-none:0ms; --fds-fast:200ms; --fds-slow:400ms; --font-family-apple:system-ui, -apple-system, BlinkMacSystemFont, &quot;.SFNSText-Regular&quot;, sans-serif; --font-family-code:ui-monospace, Menlo, Consolas, Monaco, monospace; --font-family-default:Helvetica, Arial, sans-serif; --font-family-segoe:Segoe UI Historic, Segoe UI, Helvetica, Arial, sans-serif; --dataviz-primary-2:rgb(134,218,255); --dataviz-primary-3:rgb(95,170,255); --dataviz-secondary-1:rgb(118,62,230); --dataviz-secondary-2:rgb(147,96,247); --dataviz-secondary-3:rgb(219,26,139); --dataviz-supplementary-1:rgb(255,122,105); --dataviz-supplementary-2:rgb(241,168,23); --dataviz-supplementary-3:rgb(49,162,76); --dataviz-supplementary-4:rgb(50,52,54); --base-unit:4px; --breakpoint-medium-width:1536px; --breakpoint-small-width:1024px; --challenge-width:460px; --cluster-card-border-radius:8px; --creation-composer-height:81px; --creation-header-composer-height:126px; --desktop-cluster-card-height:89px; --desktop-collapsed-nav-height:52px; --desktop-grid-item-margin:28px; --desktop-in-feed-story-item-height:208px; --desktop-in-feed-story-item-width:116px; --desktop-large-modal-max-height:781px; --desktop-large-modal-max-width:1491px; --desktop-large-modal-min-height:664px; --desktop-large-modal-min-width:908px; --desktop-nav-anim-duration:0.2s; --desktop-nav-search-box-width:215px; --desktop-regular-nav-height:60px; --desktop-skinny-nav-height:60px; --desktop-nav-height:60px; --direct-attachment-image-grid-border-size:1px; --direct-attachment-image-grid-item-size:78px; --direct-attachment-image-grid-width:236px; --direct-attachment-story-height:150px; --direct-attachment-story-large-height:256px; --direct-attachment-story-large-width:164px; --direct-attachment-story-width:84px; --direct-message-margin:8px; --direct-message-max-width:236px; --extra-small-screen-max:413px; --fb-signup-page-profile-pic-size:88px; --feed-width-wide:614px; --feed-with-padding-threshold-min:640px; --font-family-system:-apple-system, BlinkMacSystemFont, &quot;Segoe UI&quot;, Roboto, Helvetica, Arial, sans-serif; --font-weight-system-bold:700; --font-weight-system-extra-bold:800; --font-weight-system-extra-light:200; --font-weight-system-light:300; --font-weight-system-medium:500; --font-weight-system-regular:400; --font-weight-system-semibold:600; --grid-column-width-modal:6.25%; --grid-column-width:5.55556%; --hscc-collapse-transition-duration:0.3s; --igui-border-radius:3px; --in-feed-story-item-height:240px; --in-feed-story-item-width:135px; --input-border-radius:6px; --large-screen-min:876px; --like-animation-duration:1000ms; --live-video-border-radius:4px; --live-video-right-col-width:336px; --media-info:335px; --medium-screen-max:875px; --medium-screen-min:736px; --mobile-cluster-card-height:74px; --mobile-grid-item-margin:2px; --mobile-nav-height:45px; --modal-border-radius:12px; --modal-padding:16px; --modal-z-index:100; --photo:600px; --post-modal-large-screen-min:1536px; --post-modal-small-screen-max:1366px; --refinement-section-height:50px; --scrollable-content-header-height-large:56px; --scrollable-content-header-height:44px; --search-modal-height-expanded:450px; --search-modal-height:362px; --search-modal-top-offset:12px; --search-result-height:50px; --search-result-list-width:375px; --site-padding-top:30px; --site-width-narrow:600px; --site-width-wide:935px; --small-screen-max:735px; --small-screen-min:414px; --story-cube-shading-duration:200ms; --story-desktop-margin-bottom:26px; --story-desktop-margin-top:82px; --story-gallery-preview-scale-correction:2.5; --story-progressbar-update-tick:0.1s; --story-swap-animation-duration:350ms; --system-10-font-size:10px; --system-10-line-height:12px; --system-11-font-size:11px; --system-11-line-height:13px; --system-12-font-size:12px; --system-12-line-height:16px; --system-14-font-size:14px; --system-14-line-height:18px; --system-16-font-size:16px; --system-16-line-height:24px; --system-18-font-size:18px; --system-18-line-height:24px; --system-20-font-size:20px; --system-20-line-height:25px; --system-22-font-size:22px; --system-22-line-height:26px; --system-24-font-size:24px; --system-24-line-height:27px; --system-26-font-size:26px; --system-26-line-height:28px; --system-28-font-size:28px; --system-28-line-height:32px; --system-32-font-size:32px; --system-32-line-height:40px; --blue-0:#f5fbff; --blue-2:#b3dbff; --blue-4:#47afff; --blue-5:#0095f6; --blue-6:#0074cc; --blue-7:#0057a3; --blue-8:#00376b; --blue-9:#002952; --challenge-link:54,54,54; --clr-separator:#efefef; --clr_red_dark_30:#af2634; --cyan-5:#27c4f5; --docpen-lightgrey:243,243,243; --fb-connect-blue:#4f67b0; --green-4:#78de45; --green-5:#58c322; --green-6:#37a600; --grey-1:#efefef; --grey-2:#dbdbdb; --grey-4:#a8a8a8; --grey-5:#8e8e8e; --grey-6:#737373; --grey-8:#363636; --grey-9:#262626; --ig-badge:255, 48, 65; --ig-elevated-background:255,255,255; --ig-elevated-separator:219,219,219; --ig-error-or-destructive:237,73,86; --ig-facebook-blue:53,121,234; --ig-focus-stroke:168,168,168; --ig-highlight-background:239,239,239; --ig-link:0,55,107; --ig-primary-background:255,255,255; --ig-primary-button:0,149,246; --ig-primary-text:38,38,38; --ig-secondary-background:250,250,250; --ig-secondary-button:38,38,38; --ig-secondary-text:142,142,142; --ig-separator:219,219,219; --ig-stroke:219,219,219; --ig-success:88,195,34; --ig-temporary-highlight:245,251,255; --ig-tertiary-text:199,199,199; --ig-text-on-color:255,255,255; --orange-5:#fd8d32; --pink-5:#d10869; --post-separator:239,239,239; --post-step-indicator:168,168,168; --purple-5:#a307ba; --red-4:#ff6874; --red-5:#ed4956; --red-6:#c62330; --red-7:#a70311; --tos-box-shadow:0,0,0; --web-always-black:0,0,0; --web-always-white:255,255,255; --web-secondary-action:224,241,255; --yellow-5:#fdcb5c;\">...</div>\n  (Session info: chrome=103.0.5060.114)\n"
     ]
    }
   ],
   "source": [
    "GoBack()\n",
    "Pre_url = \"A\"\n",
    "Current_url = \"B\"\n",
    "\n"
   ]
  },
  {
   "cell_type": "code",
   "execution_count": 14,
   "id": "720e5317",
   "metadata": {},
   "outputs": [
    {
     "name": "stdout",
     "output_type": "stream",
     "text": [
    
     ]
    },
    {
     "name": "stdout",
     
     ]
    },
    {
     "name": "stdout",
     "output_type": "stream",
     "text": [
      
     ]
    },
    {
     "ename": "WebDriverException",
     "evalue": "Message: chrome not reachable\n  (Session info: chrome=103.0.5060.114)\n",
     "output_type": "error",
     "traceback": [
      "\u001b[1;31m---------------------------------------------------------------------------\u001b[0m",
      "\u001b[1;31mWebDriverException\u001b[0m                        Traceback (most recent call last)",
      "Input \u001b[1;32mIn [9]\u001b[0m, in \u001b[0;36mGoBack\u001b[1;34m()\u001b[0m\n\u001b[0;32m    106\u001b[0m \u001b[38;5;28;01mtry\u001b[39;00m :\n\u001b[1;32m--> 107\u001b[0m     \u001b[43mdriver\u001b[49m\u001b[38;5;241;43m.\u001b[39;49m\u001b[43mfind_elements_by_class_name\u001b[49m\u001b[43m(\u001b[49m\u001b[38;5;124;43m'\u001b[39;49m\u001b[38;5;124;43m_aaqg\u001b[39;49m\u001b[38;5;124;43m'\u001b[39;49m\u001b[43m)\u001b[49m[\u001b[38;5;241m0\u001b[39m]\u001b[38;5;241m.\u001b[39mclick() \n\u001b[0;32m    108\u001b[0m     time\u001b[38;5;241m.\u001b[39msleep(\u001b[38;5;241m5\u001b[39m)\n",
      "File \u001b[1;32m~\\anaconda3\\lib\\site-packages\\selenium\\webdriver\\remote\\webdriver.py:580\u001b[0m, in \u001b[0;36mWebDriver.find_elements_by_class_name\u001b[1;34m(self, name)\u001b[0m\n\u001b[0;32m    567\u001b[0m \u001b[38;5;124;03m\"\"\"\u001b[39;00m\n\u001b[0;32m    568\u001b[0m \u001b[38;5;124;03mFinds elements by class name.\u001b[39;00m\n\u001b[0;32m    569\u001b[0m \n\u001b[1;32m   (...)\u001b[0m\n\u001b[0;32m    578\u001b[0m \u001b[38;5;124;03m    elements = driver.find_elements_by_class_name('foo')\u001b[39;00m\n\u001b[0;32m    579\u001b[0m \u001b[38;5;124;03m\"\"\"\u001b[39;00m\n\u001b[1;32m--> 580\u001b[0m \u001b[38;5;28;01mreturn\u001b[39;00m \u001b[38;5;28;43mself\u001b[39;49m\u001b[38;5;241;43m.\u001b[39;49m\u001b[43mfind_elements\u001b[49m\u001b[43m(\u001b[49m\u001b[43mby\u001b[49m\u001b[38;5;241;43m=\u001b[39;49m\u001b[43mBy\u001b[49m\u001b[38;5;241;43m.\u001b[39;49m\u001b[43mCLASS_NAME\u001b[49m\u001b[43m,\u001b[49m\u001b[43m \u001b[49m\u001b[43mvalue\u001b[49m\u001b[38;5;241;43m=\u001b[39;49m\u001b[43mname\u001b[49m\u001b[43m)\u001b[49m\n",
      "File \u001b[1;32m~\\anaconda3\\lib\\site-packages\\selenium\\webdriver\\remote\\webdriver.py:1005\u001b[0m, in \u001b[0;36mWebDriver.find_elements\u001b[1;34m(self, by, value)\u001b[0m\n\u001b[0;32m   1003\u001b[0m \u001b[38;5;66;03m# Return empty list if driver returns null\u001b[39;00m\n\u001b[0;32m   1004\u001b[0m \u001b[38;5;66;03m# See https://github.com/SeleniumHQ/selenium/issues/4555\u001b[39;00m\n\u001b[1;32m-> 1005\u001b[0m \u001b[38;5;28;01mreturn\u001b[39;00m \u001b[38;5;28;43mself\u001b[39;49m\u001b[38;5;241;43m.\u001b[39;49m\u001b[43mexecute\u001b[49m\u001b[43m(\u001b[49m\u001b[43mCommand\u001b[49m\u001b[38;5;241;43m.\u001b[39;49m\u001b[43mFIND_ELEMENTS\u001b[49m\u001b[43m,\u001b[49m\u001b[43m \u001b[49m\u001b[43m{\u001b[49m\n\u001b[0;32m   1006\u001b[0m \u001b[43m    \u001b[49m\u001b[38;5;124;43m'\u001b[39;49m\u001b[38;5;124;43musing\u001b[39;49m\u001b[38;5;124;43m'\u001b[39;49m\u001b[43m:\u001b[49m\u001b[43m \u001b[49m\u001b[43mby\u001b[49m\u001b[43m,\u001b[49m\n\u001b[0;32m   1007\u001b[0m \u001b[43m    \u001b[49m\u001b[38;5;124;43m'\u001b[39;49m\u001b[38;5;124;43mvalue\u001b[39;49m\u001b[38;5;124;43m'\u001b[39;49m\u001b[43m:\u001b[49m\u001b[43m \u001b[49m\u001b[43mvalue\u001b[49m\u001b[43m}\u001b[49m\u001b[43m)\u001b[49m[\u001b[38;5;124m'\u001b[39m\u001b[38;5;124mvalue\u001b[39m\u001b[38;5;124m'\u001b[39m] \u001b[38;5;129;01mor\u001b[39;00m []\n",
      "File \u001b[1;32m~\\anaconda3\\lib\\site-packages\\selenium\\webdriver\\remote\\webdriver.py:321\u001b[0m, in \u001b[0;36mWebDriver.execute\u001b[1;34m(self, driver_command, params)\u001b[0m\n\u001b[0;32m    320\u001b[0m \u001b[38;5;28;01mif\u001b[39;00m response:\n\u001b[1;32m--> 321\u001b[0m     \u001b[38;5;28;43mself\u001b[39;49m\u001b[38;5;241;43m.\u001b[39;49m\u001b[43merror_handler\u001b[49m\u001b[38;5;241;43m.\u001b[39;49m\u001b[43mcheck_response\u001b[49m\u001b[43m(\u001b[49m\u001b[43mresponse\u001b[49m\u001b[43m)\u001b[49m\n\u001b[0;32m    322\u001b[0m     response[\u001b[38;5;124m'\u001b[39m\u001b[38;5;124mvalue\u001b[39m\u001b[38;5;124m'\u001b[39m] \u001b[38;5;241m=\u001b[39m \u001b[38;5;28mself\u001b[39m\u001b[38;5;241m.\u001b[39m_unwrap_value(\n\u001b[0;32m    323\u001b[0m         response\u001b[38;5;241m.\u001b[39mget(\u001b[38;5;124m'\u001b[39m\u001b[38;5;124mvalue\u001b[39m\u001b[38;5;124m'\u001b[39m, \u001b[38;5;28;01mNone\u001b[39;00m))\n",
      "File \u001b[1;32m~\\anaconda3\\lib\\site-packages\\selenium\\webdriver\\remote\\errorhandler.py:242\u001b[0m, in \u001b[0;36mErrorHandler.check_response\u001b[1;34m(self, response)\u001b[0m\n\u001b[0;32m    241\u001b[0m     \u001b[38;5;28;01mraise\u001b[39;00m exception_class(message, screen, stacktrace, alert_text)\n\u001b[1;32m--> 242\u001b[0m \u001b[38;5;28;01mraise\u001b[39;00m exception_class(message, screen, stacktrace)\n",
      "\u001b[1;31mWebDriverException\u001b[0m: Message: chrome not reachable\n  (Session info: chrome=103.0.5060.114)\n",
      "\nDuring handling of the above exception, another exception occurred:\n",
      "\u001b[1;31mWebDriverException\u001b[0m                        Traceback (most recent call last)",
      "Input \u001b[1;32mIn [14]\u001b[0m, in \u001b[0;36m<cell line: 14>\u001b[1;34m()\u001b[0m\n\u001b[0;32m     43\u001b[0m cnt \u001b[38;5;241m=\u001b[39m \u001b[38;5;241m0\u001b[39m\n\u001b[0;32m     46\u001b[0m \u001b[38;5;28;01mwhile\u001b[39;00m cnt\u001b[38;5;241m!=\u001b[39mnum :\n\u001b[1;32m---> 47\u001b[0m     \u001b[43mGoBack\u001b[49m\u001b[43m(\u001b[49m\u001b[43m)\u001b[49m\n\u001b[0;32m     48\u001b[0m     Current_url \u001b[38;5;241m=\u001b[39m driver\u001b[38;5;241m.\u001b[39mcurrent_url\n\u001b[0;32m     49\u001b[0m     \u001b[38;5;28mprint\u001b[39m(driver\u001b[38;5;241m.\u001b[39mcurrent_url)\n",
      "Input \u001b[1;32mIn [9]\u001b[0m, in \u001b[0;36mGoBack\u001b[1;34m()\u001b[0m\n\u001b[0;32m    108\u001b[0m     time\u001b[38;5;241m.\u001b[39msleep(\u001b[38;5;241m5\u001b[39m)\n\u001b[0;32m    109\u001b[0m \u001b[38;5;28;01mexcept\u001b[39;00m :\n\u001b[1;32m--> 110\u001b[0m     \u001b[43mdriver\u001b[49m\u001b[38;5;241;43m.\u001b[39;49m\u001b[43mfind_elements_by_class_name\u001b[49m\u001b[43m(\u001b[49m\u001b[38;5;124;43m'\u001b[39;49m\u001b[38;5;124;43m_abl-\u001b[39;49m\u001b[38;5;124;43m'\u001b[39;49m\u001b[43m)\u001b[49m[\u001b[38;5;241m0\u001b[39m]\u001b[38;5;241m.\u001b[39mclick() \n\u001b[0;32m    111\u001b[0m     time\u001b[38;5;241m.\u001b[39msleep(\u001b[38;5;241m5\u001b[39m)\n",
      "File \u001b[1;32m~\\anaconda3\\lib\\site-packages\\selenium\\webdriver\\remote\\webdriver.py:580\u001b[0m, in \u001b[0;36mWebDriver.find_elements_by_class_name\u001b[1;34m(self, name)\u001b[0m\n\u001b[0;32m    566\u001b[0m \u001b[38;5;28;01mdef\u001b[39;00m \u001b[38;5;21mfind_elements_by_class_name\u001b[39m(\u001b[38;5;28mself\u001b[39m, name):\n\u001b[0;32m    567\u001b[0m     \u001b[38;5;124;03m\"\"\"\u001b[39;00m\n\u001b[0;32m    568\u001b[0m \u001b[38;5;124;03m    Finds elements by class name.\u001b[39;00m\n\u001b[0;32m    569\u001b[0m \n\u001b[1;32m   (...)\u001b[0m\n\u001b[0;32m    578\u001b[0m \u001b[38;5;124;03m        elements = driver.find_elements_by_class_name('foo')\u001b[39;00m\n\u001b[0;32m    579\u001b[0m \u001b[38;5;124;03m    \"\"\"\u001b[39;00m\n\u001b[1;32m--> 580\u001b[0m     \u001b[38;5;28;01mreturn\u001b[39;00m \u001b[38;5;28;43mself\u001b[39;49m\u001b[38;5;241;43m.\u001b[39;49m\u001b[43mfind_elements\u001b[49m\u001b[43m(\u001b[49m\u001b[43mby\u001b[49m\u001b[38;5;241;43m=\u001b[39;49m\u001b[43mBy\u001b[49m\u001b[38;5;241;43m.\u001b[39;49m\u001b[43mCLASS_NAME\u001b[49m\u001b[43m,\u001b[49m\u001b[43m \u001b[49m\u001b[43mvalue\u001b[49m\u001b[38;5;241;43m=\u001b[39;49m\u001b[43mname\u001b[49m\u001b[43m)\u001b[49m\n",
      "File \u001b[1;32m~\\anaconda3\\lib\\site-packages\\selenium\\webdriver\\remote\\webdriver.py:1005\u001b[0m, in \u001b[0;36mWebDriver.find_elements\u001b[1;34m(self, by, value)\u001b[0m\n\u001b[0;32m   1001\u001b[0m         value \u001b[38;5;241m=\u001b[39m \u001b[38;5;124m'\u001b[39m\u001b[38;5;124m[name=\u001b[39m\u001b[38;5;124m\"\u001b[39m\u001b[38;5;132;01m%s\u001b[39;00m\u001b[38;5;124m\"\u001b[39m\u001b[38;5;124m]\u001b[39m\u001b[38;5;124m'\u001b[39m \u001b[38;5;241m%\u001b[39m value\n\u001b[0;32m   1003\u001b[0m \u001b[38;5;66;03m# Return empty list if driver returns null\u001b[39;00m\n\u001b[0;32m   1004\u001b[0m \u001b[38;5;66;03m# See https://github.com/SeleniumHQ/selenium/issues/4555\u001b[39;00m\n\u001b[1;32m-> 1005\u001b[0m \u001b[38;5;28;01mreturn\u001b[39;00m \u001b[38;5;28;43mself\u001b[39;49m\u001b[38;5;241;43m.\u001b[39;49m\u001b[43mexecute\u001b[49m\u001b[43m(\u001b[49m\u001b[43mCommand\u001b[49m\u001b[38;5;241;43m.\u001b[39;49m\u001b[43mFIND_ELEMENTS\u001b[49m\u001b[43m,\u001b[49m\u001b[43m \u001b[49m\u001b[43m{\u001b[49m\n\u001b[0;32m   1006\u001b[0m \u001b[43m    \u001b[49m\u001b[38;5;124;43m'\u001b[39;49m\u001b[38;5;124;43musing\u001b[39;49m\u001b[38;5;124;43m'\u001b[39;49m\u001b[43m:\u001b[49m\u001b[43m \u001b[49m\u001b[43mby\u001b[49m\u001b[43m,\u001b[49m\n\u001b[0;32m   1007\u001b[0m \u001b[43m    \u001b[49m\u001b[38;5;124;43m'\u001b[39;49m\u001b[38;5;124;43mvalue\u001b[39;49m\u001b[38;5;124;43m'\u001b[39;49m\u001b[43m:\u001b[49m\u001b[43m \u001b[49m\u001b[43mvalue\u001b[49m\u001b[43m}\u001b[49m\u001b[43m)\u001b[49m[\u001b[38;5;124m'\u001b[39m\u001b[38;5;124mvalue\u001b[39m\u001b[38;5;124m'\u001b[39m] \u001b[38;5;129;01mor\u001b[39;00m []\n",
      "File \u001b[1;32m~\\anaconda3\\lib\\site-packages\\selenium\\webdriver\\remote\\webdriver.py:321\u001b[0m, in \u001b[0;36mWebDriver.execute\u001b[1;34m(self, driver_command, params)\u001b[0m\n\u001b[0;32m    319\u001b[0m response \u001b[38;5;241m=\u001b[39m \u001b[38;5;28mself\u001b[39m\u001b[38;5;241m.\u001b[39mcommand_executor\u001b[38;5;241m.\u001b[39mexecute(driver_command, params)\n\u001b[0;32m    320\u001b[0m \u001b[38;5;28;01mif\u001b[39;00m response:\n\u001b[1;32m--> 321\u001b[0m     \u001b[38;5;28;43mself\u001b[39;49m\u001b[38;5;241;43m.\u001b[39;49m\u001b[43merror_handler\u001b[49m\u001b[38;5;241;43m.\u001b[39;49m\u001b[43mcheck_response\u001b[49m\u001b[43m(\u001b[49m\u001b[43mresponse\u001b[49m\u001b[43m)\u001b[49m\n\u001b[0;32m    322\u001b[0m     response[\u001b[38;5;124m'\u001b[39m\u001b[38;5;124mvalue\u001b[39m\u001b[38;5;124m'\u001b[39m] \u001b[38;5;241m=\u001b[39m \u001b[38;5;28mself\u001b[39m\u001b[38;5;241m.\u001b[39m_unwrap_value(\n\u001b[0;32m    323\u001b[0m         response\u001b[38;5;241m.\u001b[39mget(\u001b[38;5;124m'\u001b[39m\u001b[38;5;124mvalue\u001b[39m\u001b[38;5;124m'\u001b[39m, \u001b[38;5;28;01mNone\u001b[39;00m))\n\u001b[0;32m    324\u001b[0m     \u001b[38;5;28;01mreturn\u001b[39;00m response\n",
      "File \u001b[1;32m~\\anaconda3\\lib\\site-packages\\selenium\\webdriver\\remote\\errorhandler.py:242\u001b[0m, in \u001b[0;36mErrorHandler.check_response\u001b[1;34m(self, response)\u001b[0m\n\u001b[0;32m    240\u001b[0m         alert_text \u001b[38;5;241m=\u001b[39m value[\u001b[38;5;124m'\u001b[39m\u001b[38;5;124malert\u001b[39m\u001b[38;5;124m'\u001b[39m]\u001b[38;5;241m.\u001b[39mget(\u001b[38;5;124m'\u001b[39m\u001b[38;5;124mtext\u001b[39m\u001b[38;5;124m'\u001b[39m)\n\u001b[0;32m    241\u001b[0m     \u001b[38;5;28;01mraise\u001b[39;00m exception_class(message, screen, stacktrace, alert_text)\n\u001b[1;32m--> 242\u001b[0m \u001b[38;5;28;01mraise\u001b[39;00m exception_class(message, screen, stacktrace)\n",
      "\u001b[1;31mWebDriverException\u001b[0m: Message: chrome not reachable\n  (Session info: chrome=103.0.5060.114)\n"
     ]
    }
   ],
   "source": [
    "Pre_url = \"A\"\n",
    "Current_url = \"B\"\n",
    "num = 0\n",
    "cnt = 0\n",
    "like =0\n",
    "\n",
    "ST = 15\n",
    "ShortTime = 1\n",
    "LongTime = 5\n",
    "\n",
    "while True:\n",
    "        \n",
    "    \n",
    "    try :\n",
    "        e = driver.find_elements_by_class_name('_abm0')[5]\n",
    "        time.sleep(1)\n",
    "        e.click()\n",
    "        time.sleep(1)\n",
    "    except:\n",
    "            time.sleep(1)\n",
    "    try :\n",
    "        e = driver.find_elements_by_class_name('_abm0')[5]\n",
    "        time.sleep(1)\n",
    "        e.click()\n",
    "        time.sleep(1)\n",
    "    except:\n",
    "            time.sleep(1)\n",
    "            \n",
    "    try :\n",
    "        e = driver.find_elements_by_class_name('_abm0')[5]\n",
    "        time.sleep(1)\n",
    "        e.click()\n",
    "        time.sleep(1)\n",
    "    except:\n",
    "            time.sleep(1)\n",
    "            \n",
    "    like = like + 1    \n",
    "    print(\"LIKE\"+\" : \"+str(like))\n",
    "   \n",
    "    \n",
    "    \n",
    "    num = randint(1,4)\n",
    "    cnt = 0\n",
    "\n",
    "    \n",
    "    while cnt!=num :\n",
    "        GoBack()\n",
    "        Current_url = driver.current_url\n",
    "        print(driver.current_url)\n",
    "        print(\"GoBack\")\n",
    "        time.sleep(randint(1000,3000)/1000)\n",
    "        cnt = cnt + 1\n",
    "    \n",
    "  \n",
    "    print(\"sleep\"+ str(ST))\n",
    "    \n",
    "    time.sleep(randint(1000,3000)/1000*ST)\n"
   ]
  },
  {
   "cell_type": "code",
   "execution_count": 14,
   "id": "1e9ddd9d",
   "metadata": {},
   "outputs": [
    {
     "ename": "ElementNotInteractableException",
     "evalue": "Message: element not interactable\n  (Session info: chrome=103.0.5060.114)\n",
     "output_type": "error",
     "traceback": [
      "\u001b[1;31m---------------------------------------------------------------------------\u001b[0m",
      "\u001b[1;31mElementNotInteractableException\u001b[0m           Traceback (most recent call last)",
      "Input \u001b[1;32mIn [14]\u001b[0m, in \u001b[0;36m<cell line: 3>\u001b[1;34m()\u001b[0m\n\u001b[0;32m      1\u001b[0m e \u001b[38;5;241m=\u001b[39m driver\u001b[38;5;241m.\u001b[39mfind_elements_by_class_name(\u001b[38;5;124m'\u001b[39m\u001b[38;5;124m_abm0\u001b[39m\u001b[38;5;124m'\u001b[39m)[\u001b[38;5;241m5\u001b[39m]\n\u001b[0;32m      2\u001b[0m time\u001b[38;5;241m.\u001b[39msleep(\u001b[38;5;241m1\u001b[39m)\n\u001b[1;32m----> 3\u001b[0m \u001b[43me\u001b[49m\u001b[38;5;241;43m.\u001b[39;49m\u001b[43mclick\u001b[49m\u001b[43m(\u001b[49m\u001b[43m)\u001b[49m\n",
      "File \u001b[1;32m~\\anaconda3\\lib\\site-packages\\selenium\\webdriver\\remote\\webelement.py:80\u001b[0m, in \u001b[0;36mWebElement.click\u001b[1;34m(self)\u001b[0m\n\u001b[0;32m     78\u001b[0m \u001b[38;5;28;01mdef\u001b[39;00m \u001b[38;5;21mclick\u001b[39m(\u001b[38;5;28mself\u001b[39m):\n\u001b[0;32m     79\u001b[0m     \u001b[38;5;124;03m\"\"\"Clicks the element.\"\"\"\u001b[39;00m\n\u001b[1;32m---> 80\u001b[0m     \u001b[38;5;28;43mself\u001b[39;49m\u001b[38;5;241;43m.\u001b[39;49m\u001b[43m_execute\u001b[49m\u001b[43m(\u001b[49m\u001b[43mCommand\u001b[49m\u001b[38;5;241;43m.\u001b[39;49m\u001b[43mCLICK_ELEMENT\u001b[49m\u001b[43m)\u001b[49m\n",
      "File \u001b[1;32m~\\anaconda3\\lib\\site-packages\\selenium\\webdriver\\remote\\webelement.py:633\u001b[0m, in \u001b[0;36mWebElement._execute\u001b[1;34m(self, command, params)\u001b[0m\n\u001b[0;32m    631\u001b[0m     params \u001b[38;5;241m=\u001b[39m {}\n\u001b[0;32m    632\u001b[0m params[\u001b[38;5;124m'\u001b[39m\u001b[38;5;124mid\u001b[39m\u001b[38;5;124m'\u001b[39m] \u001b[38;5;241m=\u001b[39m \u001b[38;5;28mself\u001b[39m\u001b[38;5;241m.\u001b[39m_id\n\u001b[1;32m--> 633\u001b[0m \u001b[38;5;28;01mreturn\u001b[39;00m \u001b[38;5;28;43mself\u001b[39;49m\u001b[38;5;241;43m.\u001b[39;49m\u001b[43m_parent\u001b[49m\u001b[38;5;241;43m.\u001b[39;49m\u001b[43mexecute\u001b[49m\u001b[43m(\u001b[49m\u001b[43mcommand\u001b[49m\u001b[43m,\u001b[49m\u001b[43m \u001b[49m\u001b[43mparams\u001b[49m\u001b[43m)\u001b[49m\n",
      "File \u001b[1;32m~\\anaconda3\\lib\\site-packages\\selenium\\webdriver\\remote\\webdriver.py:321\u001b[0m, in \u001b[0;36mWebDriver.execute\u001b[1;34m(self, driver_command, params)\u001b[0m\n\u001b[0;32m    319\u001b[0m response \u001b[38;5;241m=\u001b[39m \u001b[38;5;28mself\u001b[39m\u001b[38;5;241m.\u001b[39mcommand_executor\u001b[38;5;241m.\u001b[39mexecute(driver_command, params)\n\u001b[0;32m    320\u001b[0m \u001b[38;5;28;01mif\u001b[39;00m response:\n\u001b[1;32m--> 321\u001b[0m     \u001b[38;5;28;43mself\u001b[39;49m\u001b[38;5;241;43m.\u001b[39;49m\u001b[43merror_handler\u001b[49m\u001b[38;5;241;43m.\u001b[39;49m\u001b[43mcheck_response\u001b[49m\u001b[43m(\u001b[49m\u001b[43mresponse\u001b[49m\u001b[43m)\u001b[49m\n\u001b[0;32m    322\u001b[0m     response[\u001b[38;5;124m'\u001b[39m\u001b[38;5;124mvalue\u001b[39m\u001b[38;5;124m'\u001b[39m] \u001b[38;5;241m=\u001b[39m \u001b[38;5;28mself\u001b[39m\u001b[38;5;241m.\u001b[39m_unwrap_value(\n\u001b[0;32m    323\u001b[0m         response\u001b[38;5;241m.\u001b[39mget(\u001b[38;5;124m'\u001b[39m\u001b[38;5;124mvalue\u001b[39m\u001b[38;5;124m'\u001b[39m, \u001b[38;5;28;01mNone\u001b[39;00m))\n\u001b[0;32m    324\u001b[0m     \u001b[38;5;28;01mreturn\u001b[39;00m response\n",
      "File \u001b[1;32m~\\anaconda3\\lib\\site-packages\\selenium\\webdriver\\remote\\errorhandler.py:242\u001b[0m, in \u001b[0;36mErrorHandler.check_response\u001b[1;34m(self, response)\u001b[0m\n\u001b[0;32m    240\u001b[0m         alert_text \u001b[38;5;241m=\u001b[39m value[\u001b[38;5;124m'\u001b[39m\u001b[38;5;124malert\u001b[39m\u001b[38;5;124m'\u001b[39m]\u001b[38;5;241m.\u001b[39mget(\u001b[38;5;124m'\u001b[39m\u001b[38;5;124mtext\u001b[39m\u001b[38;5;124m'\u001b[39m)\n\u001b[0;32m    241\u001b[0m     \u001b[38;5;28;01mraise\u001b[39;00m exception_class(message, screen, stacktrace, alert_text)\n\u001b[1;32m--> 242\u001b[0m \u001b[38;5;28;01mraise\u001b[39;00m exception_class(message, screen, stacktrace)\n",
      "\u001b[1;31mElementNotInteractableException\u001b[0m: Message: element not interactable\n  (Session info: chrome=103.0.5060.114)\n"
     ]
    }
   ],
   "source": [
    " e = driver.find_elements_by_class_name('_abm0')[5]\n",
    " time.sleep(1)\n",
    " e.click()\n",
    "\n"
   ]
  },
  {
   "cell_type": "code",
   "execution_count": null,
   "id": "399e910c",
   "metadata": {},
   "outputs": [],
   "source": []
  },
  {
   "cell_type": "code",
   "execution_count": null,
   "id": "71b13139",
   "metadata": {},
   "outputs": [],
   "source": []
  }
 ],
 "metadata": {
  "kernelspec": {
   "display_name": "Python 3 (ipykernel)",
   "language": "python",
   "name": "python3"
  },
  "language_info": {
   "codemirror_mode": {
    "name": "ipython",
    "version": 3
   },
   "file_extension": ".py",
   "mimetype": "text/x-python",
   "name": "python",
   "nbconvert_exporter": "python",
   "pygments_lexer": "ipython3",
   "version": "3.9.12"
  }
 },
 "nbformat": 4,
 "nbformat_minor": 5
}
